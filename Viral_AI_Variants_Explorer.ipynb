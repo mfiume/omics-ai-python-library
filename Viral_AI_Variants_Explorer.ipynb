{
 "cells": [
  {
   "cell_type": "markdown",
   "metadata": {},
   "source": [
    "# 🦠 Viral AI Variants Explorer\n",
    "\n",
    "Query viral variants from the VirusSeq collection on Viral AI.\n",
    "\n",
    "[![Open In Colab](https://colab.research.google.com/assets/colab-badge.svg)](https://colab.research.google.com/github/mfiume/omics-ai-python-library/blob/main/Viral_AI_Variants_Explorer.ipynb)"
   ]
  },
  {
   "cell_type": "code",
   "execution_count": null,
   "metadata": {},
   "outputs": [],
   "source": [
    "# Install and import\n",
    "!pip install git+https://github.com/mfiume/omics-ai-python-library.git --quiet\n",
    "from omics_ai import list_collections, list_tables, get_schema_fields, query\n",
    "import pandas as pd\n",
    "print(\"Ready for viral genomics!\")"
   ]
  },
  {
   "cell_type": "code",
   "execution_count": null,
   "metadata": {},
   "outputs": [],
   "source": [
    "# Connect to Viral AI\n",
    "collections = list_collections(\"viral\")\n",
    "print(f\"Viral AI: {len(collections)} collections\")\n",
    "\n",
    "# Find VirusSeq\n",
    "virusseq = next(c for c in collections if c['slugName'] == 'virusseq')\n",
    "print(f\"Found: {virusseq['name']}\")"
   ]
  },
  {
   "cell_type": "code",
   "execution_count": null,
   "metadata": {},
   "outputs": [],
   "source": [
    "# List tables in VirusSeq\n",
    "tables = list_tables(\"viral\", \"virusseq\")\n",
    "print(f\"VirusSeq tables: {len(tables)}\")\n",
    "for table in tables:\n",
    "    print(f\"- {table['display_name']} ({table['size']} rows)\")"
   ]
  },
  {
   "cell_type": "code",
   "execution_count": null,
   "metadata": {},
   "outputs": [],
   "source": [
    "# Query variants table\n",
    "print(\"Querying viral variants...\")\n",
    "result = query(\"viral\", \"virusseq\", \"collections.virusseq.variants\", limit=10)\n",
    "\n",
    "data = result['data']\n",
    "print(f\"Retrieved {len(data)} variants\")\n",
    "\n",
    "# Display as table\n",
    "if data:\n",
    "    df = pd.DataFrame(data)\n",
    "    print(f\"\\nViral variants table ({df.shape[0]} rows, {df.shape[1]} columns):\")\n",
    "    display(df.head(10))"
   ]
  },
  {
   "cell_type": "code",
   "execution_count": null,
   "metadata": {},
   "outputs": [],
   "source": [
    "# Query with filters - specific chromosome\n",
    "filters = {\n",
    "    \"chrom\": [{\n",
    "        \"operation\": \"EQ\",\n",
    "        \"value\": \"chr1\",\n",
    "        \"type\": \"STRING\"\n",
    "    }]\n",
    "}\n",
    "\n",
    "print(\"Querying chromosome 1 variants...\")\n",
    "result_filtered = query(\"viral\", \"virusseq\", \"collections.virusseq.variants\", \n",
    "                       filters=filters, limit=10)\n",
    "\n",
    "data_filtered = result_filtered['data'] \n",
    "print(f\"Retrieved {len(data_filtered)} variants from chromosome 1\")\n",
    "\n",
    "# Display filtered results as table\n",
    "if data_filtered:\n",
    "    df_filtered = pd.DataFrame(data_filtered)\n",
    "    print(f\"\\nChromosome 1 variants ({df_filtered.shape[0]} rows, {df_filtered.shape[1]} columns):\")\n",
    "    display(df_filtered.head(10))\n",
    "else:\n",
    "    print(\"No variants found on chromosome 1\")"
   ]
  },
  {
   "cell_type": "code",
   "execution_count": null,
   "metadata": {},
   "outputs": [],
   "source": [
    "# Summary analysis\n",
    "print(\"Summary of viral variants data:\")\n",
    "if 'df' in locals() and not df.empty:\n",
    "    print(f\"- Total variants queried: {len(df)}\")\n",
    "    print(f\"- Data columns: {len(df.columns)}\")\n",
    "    \n",
    "    # Show data types\n",
    "    print(f\"- Sample data types:\")\n",
    "    for col in df.columns[:5]:\n",
    "        print(f\"  {col}: {df[col].dtype}\")\n",
    "    \n",
    "    # Show some basic stats if numeric columns exist\n",
    "    numeric_cols = df.select_dtypes(include=['number']).columns\n",
    "    if len(numeric_cols) > 0:\n",
    "        print(f\"- Numeric columns: {list(numeric_cols)[:3]}...\")\n",
    "else:\n",
    "    print(\"- No data available for analysis\")"
   ]
  },
  {
   "cell_type": "markdown",
   "metadata": {},
   "source": [
    "## Done!\n",
    "\n",
    "You've successfully queried viral genomics data from the VirusSeq collection.\n",
    "\n",
    "**Filter examples:**\n",
    "- Chromosome: `{\"chrom\": [{\"operation\": \"EQ\", \"value\": \"chr1\", \"type\": \"STRING\"}]}`\n",
    "- Position: `{\"pos\": [{\"operation\": \"GT\", \"value\": 1000000, \"type\": \"INTEGER\"}]}`\n",
    "\n",
    "**Links:**\n",
    "- [VirusSeq Collection](https://viral.ai/collections/virusseq/)\n",
    "- [GitHub](https://github.com/mfiume/omics-ai-python-library)"
   ]
  }
 ],
 "metadata": {
  "kernelspec": {
   "display_name": "Python 3",
   "language": "python",
   "name": "python3"
  },
  "language_info": {
   "codemirror_mode": {
    "name": "ipython",
    "version": 3
   },
   "file_extension": ".py",
   "name": "python",
   "nbconvert_exporter": "python",
   "pygments_lexer": "ipython3",
   "version": "3.8.5"
  }
 },
 "nbformat": 4,
 "nbformat_minor": 4
}