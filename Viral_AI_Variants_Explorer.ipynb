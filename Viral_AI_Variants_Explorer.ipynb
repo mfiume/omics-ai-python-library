{
 "cells": [
  {
   "cell_type": "markdown",
   "metadata": {},
   "source": [
    "# 🦠 Viral AI Variants Explorer\n",
    "\n",
    "Query viral variants from the VirusSeq collection on Viral AI.\n",
    "\n",
    "[![Open In Colab](https://colab.research.google.com/assets/colab-badge.svg)](https://colab.research.google.com/github/mfiume/omics-ai-python-library/blob/main/Viral_AI_Variants_Explorer.ipynb)"
   ]
  },
  {
   "cell_type": "code",
   "execution_count": null,
   "metadata": {},
   "outputs": [],
   "source": [
    "# Install and import\n",
    "!pip install git+https://github.com/mfiume/omics-ai-python-library.git --quiet\n",
    "from omics_ai import list_collections, list_tables, get_schema_fields, query\n",
    "import pandas as pd\n",
    "print(\"Ready for viral genomics!\")"
   ]
  },
  {
   "cell_type": "code",
   "execution_count": null,
   "metadata": {},
   "outputs": [],
   "source": [
    "# Connect to Viral AI\n",
    "collections = list_collections(\"viral\")\n",
    "print(f\"Viral AI: {len(collections)} collections\")\n",
    "\n",
    "# Find VirusSeq\n",
    "virusseq = next(c for c in collections if c['slugName'] == 'virusseq')\n",
    "print(f\"Found: {virusseq['name']}\")"
   ]
  },
  {
   "cell_type": "code",
   "execution_count": null,
   "metadata": {},
   "outputs": [],
   "source": [
    "# List tables in VirusSeq\n",
    "tables = list_tables(\"viral\", \"virusseq\")\n",
    "print(f\"VirusSeq tables: {len(tables)}\")\n",
    "for table in tables:\n",
    "    print(f\"- {table['display_name']} ({table['size']} rows)\")"
   ]
  },
  {
   "cell_type": "code",
   "execution_count": null,
   "metadata": {},
   "outputs": [],
   "source": [
    "# Query variants table\n",
    "print(\"Querying viral variants...\")\n",
    "result = query(\"viral\", \"virusseq\", \"collections.virusseq.variants\", limit=10)\n",
    "\n",
    "data = result['data']\n",
    "print(f\"Retrieved {len(data)} variants\")\n",
    "\n",
    "# Show first variant\n",
    "if data:\n",
    "    variant = data[0]\n",
    "    print(f\"\\nSample variant ({len(variant)} fields):\")\n",
    "    for key, value in list(variant.items())[:6]:\n",
    "        print(f\"  {key}: {value}\")\n",
    "    print(\"  ...\")"
   ]
  },
  {
   "cell_type": "code",
   "execution_count": null,
   "metadata": {},
   "outputs": [],
   "source": [
    "# Create DataFrame for analysis\n",
    "if data:\n",
    "    df = pd.DataFrame(data)\n",
    "    print(f\"DataFrame: {df.shape}\")\n",
    "    print(f\"Columns: {list(df.columns)[:8]}...\")\n",
    "    \n",
    "    # Show first few rows\n",
    "    display_cols = [col for col in ['pos', 'ref', 'alt', 'chrom'] if col in df.columns][:4]\n",
    "    if display_cols:\n",
    "        print(f\"\\nFirst 5 rows:\")\n",
    "        print(df[display_cols].head())"
   ]
  },
  {
   "cell_type": "markdown",
   "metadata": {},
   "source": [
    "## Done!\n",
    "\n",
    "You've successfully queried viral genomics data from the VirusSeq collection.\n",
    "\n",
    "**Next steps:**\n",
    "- Add filters to focus on specific variants\n",
    "- Increase the limit for larger datasets\n",
    "- Analyze variant patterns and frequencies\n",
    "\n",
    "**Links:**\n",
    "- [VirusSeq Collection](https://viral.ai/collections/virusseq/)\n",
    "- [GitHub](https://github.com/mfiume/omics-ai-python-library)"
   ]
  }
 ],
 "metadata": {
  "kernelspec": {
   "display_name": "Python 3",
   "language": "python",
   "name": "python3"
  },
  "language_info": {
   "codemirror_mode": {
    "name": "ipython",
    "version": 3
   },
   "file_extension": ".py",
   "name": "python",
   "nbconvert_exporter": "python",
   "pygments_lexer": "ipython3",
   "version": "3.8.5"
  }
 },
 "nbformat": 4,
 "nbformat_minor": 4
}