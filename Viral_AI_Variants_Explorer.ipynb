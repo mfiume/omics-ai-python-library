{
 "cells": [
  {
   "cell_type": "markdown",
   "metadata": {
    "colab_type": "text",
    "id": "title"
   },
   "source": [
    "# 🦠 Viral AI Variants Explorer\n",
    "\n",
    "This notebook demonstrates how to explore the **VirusSeq Variants** table on Viral AI using the Omics AI Explorer Python library.\n",
    "\n",
    "**Target Dataset**: `collections.virusseq.variants` on [viral.ai](https://viral.ai)\n",
    "\n",
    "## What we'll cover:\n",
    "- Connect to Viral AI network\n",
    "- Explore the VirusSeq collection\n",
    "- Query the variants table\n",
    "- Display the first 10 rows of variant data\n",
    "\n",
    "---"
   ]
  },
  {
   "cell_type": "markdown",
   "metadata": {
    "colab_type": "text",
    "id": "setup"
   },
   "source": [
    "## 📦 Setup and Installation\n",
    "\n",
    "First, let's install and import the Omics AI Explorer library:"
   ]
  },
  {
   "cell_type": "code",
   "metadata": {
    "colab_type": "code",
    "id": "install-package"
   },
   "outputs": [],
   "source": "# Install the Omics AI Explorer library\n!pip install git+https://github.com/mfiume/omics-ai-python-library.git --quiet\n\n# Import the functional API\nfrom omics_ai import list_collections, list_tables, get_schema_fields, query\n\n# Import data analysis libraries\nimport pandas as pd\nfrom datetime import datetime\n\nprint(\"✅ All imports successful!\")\nprint(f\"📅 Started at: {datetime.now().strftime('%Y-%m-%d %H:%M:%S')}\")\nprint(\"\\n🦠 Viral AI Variants Explorer Ready!\")"
  },
  {
   "cell_type": "markdown",
   "metadata": {
    "colab_type": "text",
    "id": "connect"
   },
   "source": [
    "## 🔗 Connect to Viral AI\n",
    "\n",
    "Let's connect to the Viral AI network and explore what's available:"
   ]
  },
  {
   "cell_type": "code",
   "metadata": {
    "colab_type": "code",
    "id": "connect-viral-ai"
   },
   "outputs": [],
   "source": "# Connect to Viral AI and explore collections\nprint(\"🔗 Connected to Viral AI!\")\nprint(f\"🌐 Network: viral.ai\")\n\n# Test basic connection\ntry:\n    collections = list_collections(\"viral\")\n    print(f\"✅ Connection successful! Found {len(collections)} collections.\")\n    \n    # Look for the virusseq collection\n    virusseq_collection = None\n    for collection in collections:\n        if collection.get('slugName') == 'virusseq':\n            virusseq_collection = collection\n            break\n    \n    if virusseq_collection:\n        print(f\"\\n🎯 Found VirusSeq collection:\")\n        print(f\"   📋 Name: {virusseq_collection.get('name', 'N/A')}\")\n        print(f\"   🔗 Slug: {virusseq_collection.get('slugName', 'N/A')}\")\n        print(f\"   📝 Description: {virusseq_collection.get('description', 'N/A')[:100]}...\")\n    else:\n        print(\"❌ VirusSeq collection not found\")\n        print(\"Available collections:\")\n        for collection in collections[:5]:\n            print(f\"   - {collection.get('name', 'Unnamed')} ({collection.get('slugName', 'no-slug')})\")\n            \nexcept Exception as e:\n    print(f\"❌ Connection failed: {e}\")"
  },
  {
   "cell_type": "markdown",
   "metadata": {
    "colab_type": "text",
    "id": "explore-tables"
   },
   "source": [
    "## 📊 Explore VirusSeq Tables\n",
    "\n",
    "Now let's see what tables are available in the VirusSeq collection:"
   ]
  },
  {
   "cell_type": "code",
   "metadata": {
    "colab_type": "code",
    "id": "list-tables"
   },
   "outputs": [],
   "source": "# List tables in the virusseq collection\ntry:\n    tables = list_tables(\"viral\", \"virusseq\")\n    print(f\"📋 Found {len(tables)} tables in VirusSeq collection:\")\n    print()\n    \n    variants_table = None\n    for i, table in enumerate(tables, 1):\n        table_name = table.get('qualified_table_name', table.get('name', 'Unknown'))\n        display_name = table.get('display_name', table_name)\n        size = table.get('size', 'Unknown')\n        \n        print(f\"   {i}. {display_name}\")\n        print(f\"      🔗 Table: {table_name}\")\n        print(f\"      📏 Size: {size} rows\")\n        \n        # Check if this is our target variants table\n        if 'variants' in table_name.lower():\n            variants_table = table\n            print(f\"      👆 This is our target table!\")\n        \n        print()\n    \n    if variants_table:\n        print(f\"🎯 Target table found: {variants_table.get('qualified_table_name')}\")\n    else:\n        print(\"❌ Variants table not found in the list\")\n        \nexcept Exception as e:\n    print(f\"❌ Failed to list tables: {e}\")"
  },
  {
   "cell_type": "markdown",
   "metadata": {
    "colab_type": "text",
    "id": "schema"
   },
   "source": [
    "## 🔍 Explore Variants Table Schema\n",
    "\n",
    "Let's examine the structure (schema) of the variants table to understand what data is available:"
   ]
  },
  {
   "cell_type": "code",
   "metadata": {
    "colab_type": "code",
    "id": "get-schema"
   },
   "outputs": [],
   "source": "# Get schema for the variants table\ntry:\n    fields = get_schema_fields(\"viral\", \"virusseq\", \"collections.virusseq.variants\")\n    print(f\"🔍 Variants table schema - {len(fields)} fields:\")\n    print()\n    \n    # Show first 15 fields\n    for i, field in enumerate(fields[:15], 1):\n        field_name = field['field']\n        field_type = field['type']\n        sql_type = field.get('sql_type', '')\n        \n        print(f\"   {i:2d}. {field_name:<25} | {field_type:<15} | {sql_type}\")\n    \n    if len(fields) > 15:\n        print(f\"   ... and {len(fields) - 15} more fields\")\n    \n    print(f\"\\n📊 Key fields we'll see in the data:\")\n    key_fields = ['pos', 'ref', 'alt', 'chrom', 'variant_id', 'sample_id']\n    for field in fields:\n        if any(key in field['field'].lower() for key in key_fields):\n            print(f\"   🔹 {field['field']}: {field['type']}\")\n            \nexcept Exception as e:\n    print(f\"❌ Failed to get schema: {e}\")"
  },
  {
   "cell_type": "markdown",
   "metadata": {
    "colab_type": "text",
    "id": "query-data"
   },
   "source": [
    "## 🔬 Query Variants Data\n",
    "\n",
    "Now let's query the variants table to get the first 10 rows of actual data:"
   ]
  },
  {
   "cell_type": "code",
   "metadata": {
    "colab_type": "code",
    "id": "query-variants"
   },
   "outputs": [],
   "source": "# Query the first 10 rows from the variants table\ntry:\n    print(\"🔬 Querying variants table...\")\n    print(\"⚡ This may take a moment as the query is processed asynchronously.\")\n    print()\n    \n    # Use the functional API to query\n    result = query(\"viral\", \"virusseq\", \"collections.virusseq.variants\", limit=10)\n    \n    # Extract the data\n    data = result.get('data', [])\n    pagination = result.get('pagination', {})\n    \n    print(f\"\\n🎉 Successfully retrieved {len(data)} variant records!\")\n    \n    if pagination:\n        total = pagination.get('total', 'Unknown')\n        print(f\"📊 Total variants in table: {total}\")\n    \n    print(\"\\n\" + \"=\"*80)\n    print(\"📋 FIRST 10 VARIANT RECORDS:\")\n    print(\"=\"*80)\n    \n    # Display each variant record\n    for i, variant in enumerate(data, 1):\n        print(f\"\\n🔹 Variant {i}:\")\n        \n        # Show key fields first\n        key_fields = ['pos', 'ref', 'alt', 'chrom', 'variant_id', 'sample_id']\n        for key in key_fields:\n            if key in variant:\n                print(f\"   {key:<12}: {variant[key]}\")\n        \n        # Show a few other interesting fields\n        other_fields = ['quality', 'filter', 'info', 'genotype']\n        for key in other_fields:\n            if key in variant:\n                value = variant[key]\n                if isinstance(value, str) and len(value) > 50:\n                    value = value[:50] + \"...\"\n                print(f\"   {key:<12}: {value}\")\n        \n        # Show total number of fields in this record\n        print(f\"   📏 Total fields: {len(variant)}\")\n        \n        if i < len(data):\n            print(\"   \" + \"-\"*50)\n    \n    print(\"\\n\" + \"=\"*80)\n    \nexcept Exception as e:\n    print(f\"❌ Query failed: {e}\")\n    import traceback\n    print(\"\\n🔍 Error details:\")\n    traceback.print_exc()"
  },
  {
   "cell_type": "markdown",
   "metadata": {
    "colab_type": "text",
    "id": "data-analysis"
   },
   "source": [
    "## 📈 Convert to DataFrame\n",
    "\n",
    "Let's convert the variant data to a pandas DataFrame for easier analysis:"
   ]
  },
  {
   "cell_type": "code",
   "execution_count": 6,
   "metadata": {
    "colab_type": "code",
    "id": "create-dataframe"
   },
   "outputs": [
    {
     "name": "stdout",
     "output_type": "stream",
     "text": [
      "📊 Created DataFrame with 10 rows and 5 columns\n",
      "\n",
      "🔍 DataFrame Info:\n",
      "   Shape: (10, 5)\n",
      "   Columns: 5\n",
      "\n",
      "📋 Column Names:\n",
      "    1. start_position\n",
      "    2. end_position\n",
      "    3. reference_bases\n",
      "    4. alternate_bases\n",
      "    5. sequence_accession\n",
      "\n",
      "🔹 First 5 columns preview:\n",
      "   start_position  end_position reference_bases alternate_bases  \\\n",
      "0           10455         10456               C               T   \n",
      "1           10457         10458               C               T   \n",
      "2           10457         10458               C               T   \n",
      "3           10457         10458               C               T   \n",
      "4           10457         10458               C               T   \n",
      "\n",
      "                    sequence_accession  \n",
      "0  hCoV-19/Canada/AB-ABPHL-102772/2023  \n",
      "1  hCoV-19/Canada/BC-BCCDC-101979/2021  \n",
      "2   hCoV-19/Canada/BC-BCCDC-92384/2021  \n",
      "3   hCoV-19/Canada/BC-BCCDC-75322/2021  \n",
      "4   hCoV-19/Canada/BC-BCCDC-78406/2021  \n"
     ]
    }
   ],
   "source": [
    "# Convert to DataFrame if we have data\n",
    "try:\n",
    "    if 'data' in locals() and data:\n",
    "        # Create DataFrame\n",
    "        df = pd.DataFrame(data)\n",
    "        \n",
    "        print(f\"📊 Created DataFrame with {len(df)} rows and {len(df.columns)} columns\")\n",
    "        print()\n",
    "        \n",
    "        # Show basic info\n",
    "        print(\"🔍 DataFrame Info:\")\n",
    "        print(f\"   Shape: {df.shape}\")\n",
    "        print(f\"   Columns: {len(df.columns)}\")\n",
    "        print()\n",
    "        \n",
    "        # Show column names\n",
    "        print(\"📋 Column Names:\")\n",
    "        for i, col in enumerate(df.columns[:20], 1):\n",
    "            print(f\"   {i:2d}. {col}\")\n",
    "        \n",
    "        if len(df.columns) > 20:\n",
    "            print(f\"   ... and {len(df.columns) - 20} more columns\")\n",
    "        \n",
    "        print()\n",
    "        \n",
    "        # Show first few rows with key columns\n",
    "        key_columns = []\n",
    "        for col in ['pos', 'ref', 'alt', 'chrom', 'variant_id', 'sample_id']:\n",
    "            if col in df.columns:\n",
    "                key_columns.append(col)\n",
    "        \n",
    "        if key_columns:\n",
    "            print(f\"🔹 Key columns preview:\")\n",
    "            print(df[key_columns].head())\n",
    "        else:\n",
    "            print(f\"🔹 First 5 columns preview:\")\n",
    "            print(df.iloc[:, :5].head())\n",
    "        \n",
    "    else:\n",
    "        print(\"❌ No data available to create DataFrame\")\n",
    "        \n",
    "except Exception as e:\n",
    "    print(f\"❌ Failed to create DataFrame: {e}\")"
   ]
  },
  {
   "cell_type": "markdown",
   "metadata": {
    "colab_type": "text",
    "id": "summary"
   },
   "source": [
    "## 🎯 Summary\n",
    "\n",
    "**What we accomplished:**\n",
    "\n",
    "✅ Connected to Viral AI network  \n",
    "✅ Explored the VirusSeq collection  \n",
    "✅ Examined the variants table schema  \n",
    "✅ Successfully queried the first 10 variant records  \n",
    "✅ Converted the data to a pandas DataFrame  \n",
    "\n",
    "**Next steps you could try:**\n",
    "- Query more data by increasing the `limit` parameter\n",
    "- Add filters to focus on specific chromosomes or positions\n",
    "- Analyze variant frequencies and distributions\n",
    "- Export the data for further analysis\n",
    "\n",
    "---\n",
    "\n",
    "🦠 **Viral AI Variants Explorer** - Powered by [Omics AI Explorer](https://github.com/mfiume/omics-ai-python-library)"
   ]
  }
 ],
 "metadata": {
  "colab": {
   "provenance": []
  },
  "kernelspec": {
   "display_name": "Python 3",
   "language": "python",
   "name": "python3"
  },
  "language_info": {
   "codemirror_mode": {
    "name": "ipython",
    "version": 3
   },
   "file_extension": ".py",
   "mimetype": "text/x-python",
   "name": "python",
   "nbconvert_exporter": "python",
   "pygments_lexer": "ipython3",
   "version": "3.11.11"
  }
 },
 "nbformat": 4,
 "nbformat_minor": 4
}