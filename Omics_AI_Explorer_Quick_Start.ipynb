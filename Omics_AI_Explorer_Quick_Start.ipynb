{
 "cells": [
  {
   "cell_type": "markdown",
   "metadata": {},
   "source": "!pip install git+https://github.com/mfiume/omics-ai-python-library.git --quiet\nfrom omics_ai import list_collections, list_tables, get_schema_fields, query\nprint(\"✅ Ready!\")",
   "outputs": []
  },
  {
   "cell_type": "markdown",
   "metadata": {},
   "source": [
    "## Connect to HiFi Solves\""
   ]
  },
  {
   "cell_type": "code",
   "metadata": {},
   "outputs": [],
   "source": "# List collections on HiFi Solves\ncollections = list_collections(\"hifisolves\")\nprint(f\"✅ Connected! Found {len(collections)} collections\")"
  },
  {
   "cell_type": "markdown",
   "metadata": {},
   "source": [
    "## Explore CoLoRS collection"
   ]
  },
  {
   "cell_type": "code",
   "metadata": {},
   "outputs": [],
   "source": "# Explore the CoLoRS collection (Consortium of Long Read Sequencing)\ncollection_slug = \"consortium-of-long-read-sequencing-colors\"\nprint(f\"📂 Exploring CoLoRS collection: {collection_slug}\")\n\n# List tables in this collection\ntables = list_tables(\"hifisolves\", collection_slug)\nprint(f\"📊 Found {len(tables)} tables:\")\n\nfor i, table in enumerate(tables):\n    name = table.get('display_name', table.get('name', 'Unknown'))\n    size = table.get('size', 'Unknown')\n    print(f\"  {i+1}. {name} - {size:,} rows\" if isinstance(size, int) else f\"  {i+1}. {name} - {size} rows\")"
  },
  {
   "cell_type": "markdown",
   "metadata": {},
   "source": [
    "## Query genomics data"
   ]
  },
  {
   "cell_type": "code",
   "metadata": {},
   "outputs": [],
   "source": "# Query the CoLoRS small variants table\ntable_name = \"collections.consortium_of_long_read_sequencing_colors.colors_small_variants\"\nprint(f\"🔬 Querying: {table_name}\")\n\n# Get first 10 variants\nresult = query(\"hifisolves\", collection_slug, table_name, limit=10)\n\ndata = result.get('data', [])\nprint(f\"✅ Retrieved {len(data)} variant records\")\n\nif data:\n    # Show sample variant\n    variant = data[0]\n    print(f\"\\n📋 Sample variant fields:\")\n    for key, value in list(variant.items())[:8]:  # Show first 8 fields\n        print(f\"  {key}: {value}\")\n    \n    print(f\"\\n📊 Total fields per variant: {len(variant)}\")\n    \n    # Show pagination info if available\n    if 'pagination' in result:\n        total = result['pagination'].get('total', 'Unknown')\n        print(f\"📈 Total variants in table: {total:,}\" if isinstance(total, int) else f\"📈 Total variants: {total}\")\nelse:\n    print(\"❌ No data returned\")"
  },
  {
   "cell_type": "markdown",
   "metadata": {},
   "source": [
    "## Inspect schema"
   ]
  },
  {
   "cell_type": "code",
   "metadata": {},
   "outputs": [],
   "source": "# Explore the table schema\nprint(\"🔍 Table Schema:\")\nschema_fields = get_schema_fields(\"hifisolves\", collection_slug, table_name)\n\nprint(f\"📊 {len(schema_fields)} fields total\")\nprint(f\"\\n📋 Key genomics fields:\")\n\n# Show important genomics fields\nkey_fields = ['chrom', 'pos', 'ref', 'alt', 'gene', 'consequence', 'sample_id', 'qual', 'filter']\nfor field in schema_fields:\n    if any(key in field['field'].lower() for key in key_fields):\n        print(f\"  {field['field']}: {field['type']}\")\n\nprint(f\"\\n💡 Full schema: {len(schema_fields)} fields available for filtering and analysis\")"
  },
  {
   "cell_type": "markdown",
   "metadata": {},
   "source": [
    "## Other networks"
   ]
  },
  {
   "cell_type": "code",
   "metadata": {},
   "outputs": [],
   "source": "# Try other networks\nnetworks = {\n    \"Neuroscience AI\": \"neuroscience\",\n    \"Viral AI\": \"viral\", \n    \"Biomedical AI\": \"biomedical\",\n    \"ASAP (Parkinson's)\": \"asap\"\n}\n\nprint(\"🌐 Other Omics AI Explorer networks:\")\nfor name, network in networks.items():\n    try:\n        collections = list_collections(network)\n        print(f\"  ✅ {name}: {len(collections)} collections\")\n    except Exception as e:\n        print(f\"  ❌ {name}: {str(e)[:50]}...\")"
  },
  {
   "cell_type": "markdown",
   "metadata": {},
   "source": [
    "## Authentication (optional)"
   ]
  },
  {
   "cell_type": "code",
   "metadata": {},
   "outputs": [],
   "source": "# If you have an access token, pass it to any function:\n# collections = list_collections(\"hifisolves\", access_token=\"your-token\")\n# result = query(\"hifisolves\", collection_slug, table_name, access_token=\"your-token\")\n\nprint(\"💡 See README for authentication details\")"
  },
  {
   "cell_type": "markdown",
   "metadata": {},
   "source": [
    "---\\n\\n**That's it!** 🎉\\n\\n- **Collection**: [CoLoRS (Consortium of Long Read Sequencing)](https://hifisolves.org/collections/consortium-of-long-read-sequencing-colors)\\n- **Data**: Small variants from long-read sequencing studies\\n- **GitHub**: [mfiume/omics-ai-python-library](https://github.com/mfiume/omics-ai-python-library)\\n- **Networks**: hifisolves.org, neuroscience.ai, viral.ai, biomedical.ai\""
   ]
  }
 ],
 "metadata": {
  "colab": {
   "provenance": []
  },
  "kernelspec": {
   "display_name": "Python 3",
   "language": "python",
   "name": "python3"
  },
  "language_info": {
   "codemirror_mode": {
    "name": "ipython",
    "version": 3
   },
   "file_extension": ".py",
   "name": "python",
   "nbconvert_exporter": "python",
   "pygments_lexer": "ipython3",
   "version": "3.8.5"
  }
 },
 "nbformat": 4,
 "nbformat_minor": 4
}