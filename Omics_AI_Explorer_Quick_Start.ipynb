{
 "cells": [
  {
   "cell_type": "markdown",
   "metadata": {},
   "source": [
    "# 🧬 Omics AI Explorer - Quick Start\n",
    "\n",
    "Simple demo of the Omics AI Explorer Python library for accessing genomics data.\n",
    "\n",
    "[![Open In Colab](https://colab.research.google.com/assets/colab-badge.svg)](https://colab.research.google.com/github/mfiume/omics-ai-python-library/blob/main/Omics_AI_Explorer_Quick_Start_SIMPLE.ipynb)"
   ]
  },
  {
   "cell_type": "markdown",
   "metadata": {},
   "source": [
    "## Install"
   ]
  },
  {
   "cell_type": "code",
   "execution_count": null,
   "metadata": {},
   "outputs": [],
   "source": [
    "!pip install git+https://github.com/mfiume/omics-ai-python-library.git --quiet\n",
    "from omics_ai import OmicsAIClient\n",
    "print(\"✅ Ready!\")"
   ]
  },
  {
   "cell_type": "markdown",
   "metadata": {},
   "source": [
    "## Connect to a network"
   ]
  },
  {
   "cell_type": "code",
   "execution_count": null,
   "metadata": {},
   "outputs": [],
   "source": [
    "# Connect to HiFi Solves\n",
    "client = OmicsAIClient(\"hifisolves\")\n",
    "\n",
    "# List collections\n",
    "collections = client.list_collections()\n",
    "print(f\"Found {len(collections)} collections\")\n",
    "\n",
    "# Show first few\n",
    "for i, c in enumerate(collections[:3]):\n",
    "    print(f\"{i+1}. {c['name']} ({c['slugName']})\")"
   ]
  },
  {
   "cell_type": "markdown",
   "metadata": {},
   "source": [
    "## Explore a collection"
   ]
  },
  {
   "cell_type": "code",
   "execution_count": null,
   "metadata": {},
   "outputs": [],
   "source": [
    "# Pick first collection\n",
    "collection_slug = collections[0]['slugName']\n",
    "print(f\"Exploring: {collection_slug}\")\n",
    "\n",
    "# List tables\n",
    "try:\n",
    "    tables = client.list_tables(collection_slug)\n",
    "    print(f\"Found {len(tables)} tables\")\n",
    "    \n",
    "    for i, table in enumerate(tables[:3]):\n",
    "        name = table.get('display_name', table.get('name', 'Unknown'))\n",
    "        print(f\"{i+1}. {name}\")\n",
    "        \n",
    "except Exception as e:\n",
    "    print(f\"Error: {e}\")\n",
    "    print(\"This collection may require authentication\")"
   ]
  },
  {
   "cell_type": "markdown",
   "metadata": {},
   "source": [
    "## Query data"
   ]
  },
  {
   "cell_type": "code",
   "execution_count": null,
   "metadata": {},
   "outputs": [],
   "source": [
    "# Try to query first table\n",
    "if 'tables' in locals() and tables:\n",
    "    table_name = tables[0]['qualified_table_name']\n",
    "    print(f\"Querying: {table_name}\")\n",
    "    \n",
    "    try:\n",
    "        # Query first 5 rows\n",
    "        result = client.query(collection_slug, table_name, limit=5)\n",
    "        \n",
    "        data = result.get('data', [])\n",
    "        print(f\"Got {len(data)} rows\")\n",
    "        \n",
    "        if data:\n",
    "            print(f\"Sample row: {list(data[0].keys())[:5]}...\")\n",
    "            \n",
    "    except Exception as e:\n",
    "        print(f\"Query error: {e}\")\n",
    "        print(\"This table may require authentication\")\n",
    "else:\n",
    "    print(\"No tables available to query\")"
   ]
  },
  {
   "cell_type": "markdown",
   "metadata": {},
   "source": [
    "## Other networks"
   ]
  },
  {
   "cell_type": "code",
   "execution_count": null,
   "metadata": {},
   "outputs": [],
   "source": [
    "# Try other networks\n",
    "networks = [\"neuroscience\", \"viral\", \"biomedical\"]\n",
    "\n",
    "for network in networks:\n",
    "    try:\n",
    "        client = OmicsAIClient(network)\n",
    "        collections = client.list_collections()\n",
    "        print(f\"{network}: {len(collections)} collections\")\n",
    "    except Exception as e:\n",
    "        print(f\"{network}: Error - {e}\")"
   ]
  },
  {
   "cell_type": "markdown",
   "metadata": {},
   "source": [
    "## Authentication (optional)"
   ]
  },
  {
   "cell_type": "code",
   "execution_count": null,
   "metadata": {},
   "outputs": [],
   "source": [
    "# If you have an access token:\n",
    "# client = OmicsAIClient(\"hifisolves\", access_token=\"your-token\")\n",
    "# \n",
    "# Or set it later:\n",
    "# client.set_access_token(\"your-token\")\n",
    "\n",
    "print(\"See README for authentication details\")"
   ]
  },
  {
   "cell_type": "markdown",
   "metadata": {},
   "source": [
    "---\n",
    "\n",
    "**That's it!** 🎉\n",
    "\n",
    "- **GitHub**: [mfiume/omics-ai-python-library](https://github.com/mfiume/omics-ai-python-library)\n",
    "- **Networks**: hifisolves.org, neuroscience.ai, viral.ai, biomedical.ai\n",
    "- **More examples**: Check the repository for advanced usage"
   ]
  }
 ],
 "metadata": {
  "colab": {
   "provenance": []
  },
  "kernelspec": {
   "display_name": "Python 3",
   "language": "python",
   "name": "python3"
  },
  "language_info": {
   "codemirror_mode": {
    "name": "ipython",
    "version": 3
   },
   "file_extension": ".py",
   "name": "python",
   "nbconvert_exporter": "python",
   "pygments_lexer": "ipython3",
   "version": "3.8.5"
  }
 },
 "nbformat": 4,
 "nbformat_minor": 4
}