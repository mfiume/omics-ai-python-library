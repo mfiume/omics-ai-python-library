{
 "cells": [
  {
   "cell_type": "markdown",
   "metadata": {},
   "source": [
    "# 🧬 Omics AI Explorer - Quick Start\n",
    "\n",
    "Simple demo using the CoLoRS collection on HiFi Solves.\n",
    "\n",
    "[![Open In Colab](https://colab.research.google.com/assets/colab-badge.svg)](https://colab.research.google.com/github/mfiume/omics-ai-python-library/blob/main/Omics_AI_Explorer_Quick_Start.ipynb)"
   ]
  },
  {
   "cell_type": "code",
   "execution_count": null,
   "metadata": {},
   "outputs": [],
   "source": [
    "# Install and import\n",
    "!pip install git+https://github.com/mfiume/omics-ai-python-library.git --quiet\n",
    "from omics_ai import list_collections, list_tables, get_schema_fields, query\n",
    "print(\"Ready!\")"
   ]
  },
  {
   "cell_type": "code",
   "execution_count": null,
   "metadata": {},
   "outputs": [],
   "source": [
    "# List collections on HiFi Solves\n",
    "collections = list_collections(\"hifisolves\")\n",
    "print(f\"Found {len(collections)} collections\")\n",
    "print(f\"First: {collections[0]['name']}\")"
   ]
  },
  {
   "cell_type": "code",
   "execution_count": null,
   "metadata": {},
   "outputs": [],
   "source": [
    "# Explore CoLoRS collection\n",
    "collection = \"consortium-of-long-read-sequencing-colors\"\n",
    "tables = list_tables(\"hifisolves\", collection)\n",
    "print(f\"Tables in CoLoRS: {len(tables)}\")\n",
    "for table in tables:\n",
    "    print(f\"- {table['display_name']}\")"
   ]
  },
  {
   "cell_type": "code",
   "metadata": {},
   "outputs": [],
   "source": "# Query variants data\ntable = \"collections.consortium_of_long_read_sequencing_colors.colors_small_variants\"\nresult = query(\"hifisolves\", collection, table, limit=10)\n\ndata = result['data']\nprint(f\"Retrieved {len(data)} variants\")\n\n# Display as table\nimport pandas as pd\ndf = pd.DataFrame(data)\nprint(f\"\\nVariants table ({df.shape[0]} rows, {df.shape[1]} columns):\")\ndisplay(df.head(10))"
  },
  {
   "cell_type": "code",
   "metadata": {},
   "outputs": [],
   "source": "# Query with filters - chromosome 1 only\nfilters = {\n    \"chrom\": [{\n        \"operation\": \"EQ\",\n        \"value\": \"chr1\", \n        \"type\": \"STRING\"\n    }]\n}\n\nresult_filtered = query(\"hifisolves\", collection, table, filters=filters, limit=10)\ndata_filtered = result_filtered['data']\nprint(f\"Retrieved {len(data_filtered)} variants from chromosome 1\")\n\n# Display filtered results as table\nif data_filtered:\n    df_filtered = pd.DataFrame(data_filtered)\n    print(f\"\\nChromosome 1 variants ({df_filtered.shape[0]} rows, {df_filtered.shape[1]} columns):\")\n    display(df_filtered.head(10))\nelse:\n    print(\"No variants found on chromosome 1\")"
  },
  {
   "cell_type": "markdown",
   "metadata": {},
   "source": "# Check other networks\nfor network in [\"viral\", \"neuroscience\", \"biomedical\"]:\n    try:\n        collections = list_collections(network)\n        print(f\"{network}: {len(collections)} collections\")\n    except Exception as e:\n        print(f\"{network}: error\")",
   "outputs": []
  }
 ],
 "metadata": {
  "kernelspec": {
   "display_name": "Python 3",
   "language": "python",
   "name": "python3"
  },
  "language_info": {
   "codemirror_mode": {
    "name": "ipython",
    "version": 3
   },
   "file_extension": ".py",
   "name": "python",
   "nbconvert_exporter": "python",
   "pygments_lexer": "ipython3",
   "version": "3.8.5"
  }
 },
 "nbformat": 4,
 "nbformat_minor": 4
}