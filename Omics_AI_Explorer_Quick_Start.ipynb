{
 "cells": [
  {
   "cell_type": "markdown",
   "metadata": {
    "id": "omics-ai-title"
   },
   "source": [
    "# 🧬 Omics AI Explorer Python Library - Quick Start\n",
    "\n",
    "This notebook demonstrates how to use the Omics AI Explorer Python library to access genomics data across multiple Explorer networks including HiFi Solves, Neuroscience AI, and more.\n",
    "\n",
    "[![Open In Colab](https://colab.research.google.com/assets/colab-badge.svg)](https://colab.research.google.com/github/mfiume/omics-ai-python-library/blob/main/Omics_AI_Explorer_Quick_Start.ipynb)\n",
    "\n",
    "## 🌟 What You'll Learn\n",
    "\n",
    "- Install and import the Omics AI Explorer library\n",
    "- Connect to different Explorer networks\n",
    "- List available collections and tables\n",
    "- Inspect table schemas\n",
    "- Perform queries on genomics data\n",
    "- Work with real genomics datasets"
   ]
  },
  {
   "cell_type": "markdown",
   "metadata": {},
   "source": [
    "## 📦 Installation\n",
    "\n",
    "First, let's install the Omics AI Explorer library. We'll use a robust installation method that works reliably in Google Colab:"
   ]
  },
  {
   "cell_type": "code",
   "metadata": {
    "id": "installation"
   },
   "outputs": [],
   "source": "import json\nimport re\nimport time\nfrom typing import Dict, List, Optional, Any, Union\nfrom urllib.parse import urlencode, quote\nimport requests\n\nclass OmicsAIError(Exception):\n    \"\"\"Base exception for Omics AI client errors.\"\"\"\n    pass\n\nclass AuthenticationError(OmicsAIError):\n    \"\"\"Raised when authentication fails.\"\"\"\n    pass\n\nclass NetworkError(OmicsAIError):\n    \"\"\"Raised when network requests fail.\"\"\"\n    pass\n\nclass ValidationError(OmicsAIError):\n    \"\"\"Raised when input validation fails.\"\"\"\n    pass\n\ndef parse_json_lines_response(raw_text: str, debug: bool = False) -> Dict[str, Any]:\n    \"\"\"\n    Parse JSON Lines response format from Explorer APIs.\n    \n    Expected format:\n    {}\n    {}\n    {}\n    {\"data\": [...], \"pagination\": {...}, \"data_model\": {...}}\n    \"\"\"\n    if debug:\n        print(f\"🔍 Debug: Raw response length: {len(raw_text)}\")\n        print(f\"🔍 Debug: First 200 chars: {raw_text[:200]}\")\n    \n    if not raw_text.strip():\n        raise OmicsAIError(\"Empty response received\")\n    \n    # Split by lines and filter out empty lines\n    lines = [line.strip() for line in raw_text.strip().split('\\n') if line.strip()]\n    \n    if debug:\n        print(f\"🔍 Debug: Found {len(lines)} non-empty lines\")\n        for i, line in enumerate(lines[:5]):  # Show first 5 lines\n            print(f\"🔍 Debug: Line {i+1}: {line[:100]}...\")\n    \n    if not lines:\n        raise OmicsAIError(\"No valid lines found in response\")\n    \n    # Parse each line as JSON\n    json_objects = []\n    for i, line in enumerate(lines):\n        try:\n            obj = json.loads(line)\n            json_objects.append(obj)\n            if debug:\n                print(f\"🔍 Debug: Parsed line {i+1}: {list(obj.keys()) if obj else 'empty object'}\")\n        except json.JSONDecodeError as e:\n            # Skip empty objects {} but report other parsing errors\n            if line != \"{}\":\n                print(f\"⚠️ Failed to parse line {i+1}: {line[:50]}... - {e}\")\n            if debug:\n                print(f\"🔍 Debug: Failed to parse line {i+1}: {line}\")\n    \n    if debug:\n        print(f\"🔍 Debug: Parsed {len(json_objects)} JSON objects\")\n        for i, obj in enumerate(json_objects):\n            print(f\"🔍 Debug: Object {i+1} keys: {list(obj.keys()) if obj else 'empty'}\")\n    \n    if not json_objects:\n        raise OmicsAIError(\"No valid JSON objects found in response\")\n    \n    # Find the object with data (usually the last non-empty one)\n    for obj in reversed(json_objects):\n        if obj and 'data' in obj:\n            if debug:\n                print(f\"🔍 Debug: Found data object with {len(obj['data'])} rows\")\n            return obj\n    \n    # If no data object found, check for next_page_token (polling case)\n    for obj in reversed(json_objects):\n        if obj and 'next_page_token' in obj:\n            if debug:\n                print(f\"🔍 Debug: Found next_page_token: {obj['next_page_token'][:50]}...\")\n            return obj\n    \n    # If we get here, we have only empty objects {} or unexpected format\n    if all(not obj for obj in json_objects):\n        # All empty objects - this might be a polling response\n        if debug:\n            print(\"🔍 Debug: All objects are empty, treating as polling case\")\n        return {\"next_page_token\": \"empty_response_poll\"}\n    \n    # Return the last non-empty object\n    non_empty_objects = [obj for obj in json_objects if obj]\n    if non_empty_objects:\n        result = non_empty_objects[-1]\n        if debug:\n            print(f\"🔍 Debug: Returning last non-empty object with keys: {list(result.keys())}\")\n        return result\n    \n    raise OmicsAIError(f\"No data or next_page_token found. Objects: {json_objects}\")\n\nclass OmicsAIClient:\n    \"\"\"\n    Client for interacting with Omics AI Explorer instances.\n    \n    This client provides a simple interface to:\n    - List collections across different Explorer networks\n    - List tables within collections\n    - Get table schemas\n    - Perform queries on tables\n    \"\"\"\n    \n    # Common Explorer instances\n    KNOWN_NETWORKS = {\n        \"hifisolves\": \"hifisolves.org\",\n        \"neuroscience\": \"neuroscience.ai\", \n        \"asap\": \"cloud.parkinsonsroadmap.org\",  # Aligning Science Across Parkinson's\n        \"parkinsons\": \"cloud.parkinsonsroadmap.org\",  # Keep backward compatibility\n        \"biomedical\": \"biomedical.ai\",\n        \"viral\": \"viral.ai\",\n        \"targetals\": \"dataportal.targetals.org\"  # Target ALS\n    }\n    \n    def __init__(self, network: str = \"hifisolves.org\", access_token: Optional[str] = None):\n        \"\"\"\n        Initialize the Omics AI client.\n        \n        Args:\n            network: The Explorer network domain (e.g., 'hifisolves.org') or short name\n            access_token: Optional access token for authenticated requests\n        \"\"\"\n        # Handle short network names\n        if network in self.KNOWN_NETWORKS:\n            network = self.KNOWN_NETWORKS[network]\n            \n        # Ensure network has protocol\n        if not network.startswith(('http://', 'https://')):\n            network = f\"https://{network}\"\n            \n        self.network = network.rstrip('/')\n        self.access_token = access_token\n        self.session = requests.Session()\n        \n        # Set up default headers\n        headers = {\n            'User-Agent': 'omics-ai-python-client/0.1.0',\n            'Accept': 'application/json'\n        }\n        \n        if self.access_token:\n            headers['Authorization'] = f'Bearer {self.access_token}'\n            \n        self.session.headers.update(headers)\n    \n    def _make_request(self, method: str, endpoint: str, **kwargs) -> requests.Response:\n        \"\"\"Make an HTTP request to the Explorer API.\"\"\"\n        url = f\"{self.network}{endpoint}\"\n        \n        try:\n            response = self.session.request(method, url, **kwargs)\n            response.raise_for_status()\n            return response\n        except requests.exceptions.HTTPError as e:\n            if e.response.status_code == 401:\n                raise AuthenticationError(f\"Authentication failed: {e}\")\n            elif e.response.status_code == 403:\n                raise AuthenticationError(f\"Access forbidden: {e}\")\n            else:\n                raise OmicsAIError(f\"HTTP error {e.response.status_code}: {e}\")\n        except requests.exceptions.RequestException as e:\n            raise NetworkError(f\"Network error: {e}\")\n    \n    def list_collections(self) -> List[Dict[str, Any]]:\n        \"\"\"List all collections in this Explorer network.\"\"\"\n        response = self._make_request('GET', '/api/collections')\n        collections = response.json()\n        \n        if not isinstance(collections, list):\n            raise OmicsAIError(\"Expected list of collections but got something else\")\n            \n        return collections\n    \n    def list_tables(self, collection_slug: str) -> List[Dict[str, Any]]:\n        \"\"\"List all tables in a collection.\"\"\"\n        if not collection_slug:\n            raise ValidationError(\"Collection slug is required\")\n            \n        endpoint = f\"/api/collections/{quote(collection_slug)}/tables\"\n        response = self._make_request('GET', endpoint)\n        tables = response.json()\n        \n        if not isinstance(tables, list):\n            raise OmicsAIError(\"Expected list of tables but got something else\")\n            \n        return tables\n    \n    def get_schema_fields(self, collection_slug: str, table_name: str) -> List[Dict[str, str]]:\n        \"\"\"Get a simplified list of fields from a table schema.\"\"\"\n        endpoint = f\"/api/collection/{quote(collection_slug)}/data-connect/table/{quote(table_name)}/info\"\n        response = self._make_request('GET', endpoint)\n        schema = response.json()\n        \n        data_model = schema.get('data_model', {}).get('properties', {})\n        \n        if not data_model:\n            raise OmicsAIError(\"No schema (data_model.properties) found in response\")\n            \n        fields = []\n        for field_name, field_spec in data_model.items():\n            # Handle type which can be a string or list\n            field_type = field_spec.get('type', '')\n            if isinstance(field_type, list):\n                field_type = ', '.join(field_type)\n            \n            # Handle array types with items\n            if field_type == 'array' and 'items' in field_spec:\n                item_type = field_spec['items'].get('type', '')\n                if isinstance(item_type, list):\n                    item_type = ', '.join(item_type)\n                field_type = f\"array<{item_type}>\"\n            \n            fields.append({\n                'field': field_name,\n                'type': field_type,\n                'sql_type': field_spec.get('sqlType', '')\n            })\n            \n        return fields\n    \n    def query_with_polling(self, \n                          collection_slug: str, \n                          table_name: str, \n                          filters: Optional[Dict[str, Any]] = None,\n                          limit: int = 100,\n                          offset: int = 0,\n                          max_polls: int = 10,\n                          poll_interval: float = 2.0,\n                          debug: bool = False) -> Dict[str, Any]:\n        \"\"\"\n        Query a table with polling for async results.\n        \n        The query endpoint is asynchronous across all Explorer networks:\n        1. First call returns next_page_token but no data\n        2. Poll with the token until data is ready\n        3. Eventually get data array + next_page_tokens for pagination\n        \"\"\"\n        if not collection_slug or not table_name:\n            raise ValidationError(\"Both collection_slug and table_name are required\")\n            \n        if filters is None:\n            filters = {}\n            \n        payload = {\n            \"tableName\": table_name,\n            \"filters\": filters,\n            \"pagination\": {\n                \"limit\": limit,\n                \"offset\": offset\n            }\n        }\n        \n        endpoint = f\"/api/collections/{quote(collection_slug)}/tables/{quote(table_name)}/filter\"\n        \n        if debug:\n            print(f\"🔍 Debug: Endpoint: {self.network}{endpoint}\")\n            print(f\"🔍 Debug: Payload: {json.dumps(payload, indent=2)}\")\n        \n        print(f\"🔄 Starting async query (max {max_polls} polls, {poll_interval}s interval)...\")\n        \n        for poll_count in range(max_polls):\n            response = self._make_request(\n                'POST', \n                endpoint,\n                json=payload,\n                headers={'Content-Type': 'application/json'}\n            )\n            \n            if debug:\n                print(f\"🔍 Debug: Poll {poll_count + 1} response status: {response.status_code}\")\n                print(f\"🔍 Debug: Response headers: {dict(response.headers)}\")\n            \n            # Parse JSON Lines response using the new parser\n            try:\n                result = parse_json_lines_response(response.text, debug=debug)\n            except OmicsAIError as e:\n                raise OmicsAIError(f\"Failed to parse response: {e}\")\n            \n            # Check if we have data or need to poll\n            if 'data' in result and isinstance(result['data'], list):\n                print(f\"✅ Data ready after {poll_count + 1} poll(s)!\")\n                return result\n            elif 'next_page_token' in result or result.get('next_page_token') == 'empty_response_poll':\n                print(f\"   Poll {poll_count + 1}/{max_polls}: Data not ready, polling again in {poll_interval}s...\")\n                # Update payload with next page token for polling (if not empty response)\n                if result.get('next_page_token') != 'empty_response_poll':\n                    payload['next_page_token'] = result['next_page_token']\n                time.sleep(poll_interval)\n            else:\n                raise OmicsAIError(f\"Unexpected response format: {list(result.keys())}\")\n        \n        raise OmicsAIError(f\"Query timed out after {max_polls} polls ({max_polls * poll_interval}s)\")\n    \n    def query(self, \n              collection_slug: str, \n              table_name: str, \n              filters: Optional[Dict[str, Any]] = None,\n              limit: int = 100,\n              offset: int = 0) -> Dict[str, Any]:\n        \"\"\"Query a table with optional filters and pagination (with auto-polling for all networks).\"\"\"\n        return self.query_with_polling(collection_slug, table_name, filters, limit, offset)\n\nprint(\"✅ Omics AI client loaded successfully!\")"
  },
  {
   "cell_type": "code",
   "metadata": {
    "id": "install-package"
   },
   "outputs": [],
   "source": "# Import the Omics AI Explorer library with fallback options\n\ntry:\n    # Try normal import first\n    from omics_ai import OmicsAIClient\n    print(\"✅ Successfully imported OmicsAIClient from installed package!\")\n    \nexcept ImportError:\n    print(\"⚠️ Package import failed, trying fallback method...\")\n    \n    try:\n        # Fallback: Add the cloned repository to path\n        import sys\n        sys.path.insert(0, '/content/omics-ai-python-library')\n        from omics_ai import OmicsAIClient\n        print(\"✅ Successfully imported from cloned repository!\")\n        \n    except ImportError:\n        try:\n            # Try local files\n            sys.path.insert(0, '/content/omics_ai_local')\n            from client import OmicsAIClient\n            print(\"✅ Successfully imported from downloaded files!\")\n        except ImportError:\n            print(\"⚠️ All import methods failed, using inline implementation...\")\n            \n            # Last resort: Define the client class inline\n            import requests\n            import json\n            import re\n            import time\n            from typing import Dict, List, Optional, Any\n            from urllib.parse import quote\n            \n            def parse_json_lines_response_fallback(raw_text: str, debug: bool = False) -> Dict[str, Any]:\n                \"\"\"Parse JSON Lines response - simplified version for fallback with debug support.\"\"\"\n                if debug:\n                    print(f\"🔍 Debug: Raw response length: {len(raw_text)}\")\n                    print(f\"🔍 Debug: First 200 chars: {raw_text[:200]}\")\n                    \n                if not raw_text.strip():\n                    raise Exception(\"Empty response received\")\n                \n                lines = [line.strip() for line in raw_text.strip().split('\\n') if line.strip()]\n                \n                if debug:\n                    print(f\"🔍 Debug: Found {len(lines)} non-empty lines\")\n                    for i, line in enumerate(lines[:5]):\n                        print(f\"🔍 Debug: Line {i+1}: {line[:100]}...\")\n                \n                json_objects = []\n                \n                for i, line in enumerate(lines):\n                    try:\n                        obj = json.loads(line)\n                        json_objects.append(obj)\n                        if debug:\n                            print(f\"🔍 Debug: Parsed line {i+1}: {list(obj.keys()) if obj else 'empty object'}\")\n                    except json.JSONDecodeError:\n                        if line != \"{}\":\n                            print(f\"⚠️ Failed to parse line: {line[:50]}...\")\n                        if debug:\n                            print(f\"🔍 Debug: Failed to parse line {i+1}: {line}\")\n                \n                if debug:\n                    print(f\"🔍 Debug: Parsed {len(json_objects)} JSON objects\")\n                    for i, obj in enumerate(json_objects):\n                        print(f\"🔍 Debug: Object {i+1} keys: {list(obj.keys()) if obj else 'empty'}\")\n                \n                # Find object with data\n                for obj in reversed(json_objects):\n                    if obj and 'data' in obj:\n                        if debug:\n                            print(f\"🔍 Debug: Found data object with {len(obj['data'])} rows\")\n                        return obj\n                \n                # Check for polling tokens\n                for obj in reversed(json_objects):\n                    if obj and 'next_page_token' in obj:\n                        if debug:\n                            print(f\"🔍 Debug: Found next_page_token: {obj['next_page_token'][:50]}...\")\n                        return obj\n                \n                # Handle all empty objects\n                if all(not obj for obj in json_objects):\n                    if debug:\n                        print(\"🔍 Debug: All objects are empty, treating as polling case\")\n                    return {\"next_page_token\": \"empty_response_poll\"}\n                \n                # Return last non-empty\n                non_empty = [obj for obj in json_objects if obj]\n                if non_empty:\n                    result = non_empty[-1]\n                    if debug:\n                        print(f\"🔍 Debug: Returning last non-empty object with keys: {list(result.keys())}\")\n                    return result\n                \n                raise Exception(f\"No data found. Objects: {json_objects}\")\n            \n            class OmicsAIClient:\n                \"\"\"Simplified Omics AI Explorer client for Colab with JSON Lines parsing and debug support.\"\"\"\n                \n                KNOWN_NETWORKS = {\n                    \"hifisolves\": \"hifisolves.org\",\n                    \"neuroscience\": \"neuroscience.ai\", \n                    \"asap\": \"cloud.parkinsonsroadmap.org\",  # Aligning Science Across Parkinson's\n                    \"parkinsons\": \"cloud.parkinsonsroadmap.org\",  # Keep backward compatibility\n                    \"biomedical\": \"biomedical.ai\",\n                    \"viral\": \"viral.ai\",\n                    \"targetals\": \"dataportal.targetals.org\"  # Target ALS\n                }\n                \n                def __init__(self, network: str = \"hifisolves.org\", access_token: Optional[str] = None):\n                    if network in self.KNOWN_NETWORKS:\n                        network = self.KNOWN_NETWORKS[network]\n                    if not network.startswith(('http://', 'https://')):\n                        network = f\"https://{network}\"\n                        \n                    self.network = network.rstrip('/')\n                    self.access_token = access_token\n                    self.session = requests.Session()\n                    \n                    headers = {'User-Agent': 'omics-ai-colab-client', 'Accept': 'application/json'}\n                    if self.access_token:\n                        headers['Authorization'] = f'Bearer {self.access_token}'\n                    self.session.headers.update(headers)\n                \n                def _make_request(self, method: str, endpoint: str, **kwargs):\n                    url = f\"{self.network}{endpoint}\"\n                    response = self.session.request(method, url, **kwargs)\n                    response.raise_for_status()\n                    return response\n                \n                def list_collections(self) -> List[Dict[str, Any]]:\n                    response = self._make_request('GET', '/api/collections')\n                    return response.json()\n                \n                def list_tables(self, collection_slug: str) -> List[Dict[str, Any]]:\n                    endpoint = f\"/api/collections/{quote(collection_slug)}/tables\"\n                    response = self._make_request('GET', endpoint)\n                    return response.json()\n                \n                def get_schema_fields(self, collection_slug: str, table_name: str) -> List[Dict[str, str]]:\n                    endpoint = f\"/api/collection/{quote(collection_slug)}/data-connect/table/{quote(table_name)}/info\"\n                    response = self._make_request('GET', endpoint)\n                    schema = response.json()\n                    \n                    data_model = schema.get('data_model', {}).get('properties', {})\n                    fields = []\n                    for field_name, field_spec in data_model.items():\n                        field_type = field_spec.get('type', '')\n                        if isinstance(field_type, list):\n                            field_type = ', '.join(field_type)\n                        if field_type == 'array' and 'items' in field_spec:\n                            item_type = field_spec['items'].get('type', '')\n                            if isinstance(item_type, list):\n                                item_type = ', '.join(item_type)\n                            field_type = f\"array<{item_type}>\"\n                        \n                        fields.append({\n                            'field': field_name,\n                            'type': field_type,\n                            'sql_type': field_spec.get('sqlType', '')\n                        })\n                    return fields\n                \n                def query_with_polling(self, collection_slug: str, table_name: str, \n                                     filters=None, limit: int = 100, offset: int = 0,\n                                     max_polls: int = 10, poll_interval: float = 2.0, \n                                     debug: bool = False) -> Dict[str, Any]:\n                    \"\"\"Query with JSON Lines parsing and async polling support with debug mode.\"\"\"\n                    if filters is None:\n                        filters = {}\n                        \n                    payload = {\n                        \"tableName\": table_name,\n                        \"filters\": filters,\n                        \"pagination\": {\"limit\": limit, \"offset\": offset}\n                    }\n                    \n                    endpoint = f\"/api/collections/{quote(collection_slug)}/tables/{quote(table_name)}/filter\"\n                    \n                    if debug:\n                        print(f\"🔍 Debug: Endpoint: {self.network}{endpoint}\")\n                        print(f\"🔍 Debug: Payload: {json.dumps(payload, indent=2)}\")\n                    \n                    print(f\"🔄 Starting async query (max {max_polls} polls, {poll_interval}s interval)...\")\n                    \n                    for poll_count in range(max_polls):\n                        response = self._make_request('POST', endpoint, json=payload)\n                        \n                        if debug:\n                            print(f\"🔍 Debug: Poll {poll_count + 1} response status: {response.status_code}\")\n                            print(f\"🔍 Debug: Response headers: {dict(response.headers)}\")\n                        \n                        # Use the new JSON Lines parser with debug support\n                        try:\n                            result = parse_json_lines_response_fallback(response.text, debug=debug)\n                        except Exception as e:\n                            raise Exception(f\"Failed to parse response: {e}\")\n                        \n                        # Check if we have data or need to poll\n                        if 'data' in result and isinstance(result['data'], list):\n                            print(f\"✅ Data ready after {poll_count + 1} poll(s)!\")\n                            return result\n                        elif 'next_page_token' in result or result.get('next_page_token') == 'empty_response_poll':\n                            print(f\"   Poll {poll_count + 1}/{max_polls}: Data not ready, polling again in {poll_interval}s...\")\n                            if result.get('next_page_token') != 'empty_response_poll':\n                                payload['next_page_token'] = result['next_page_token']\n                            time.sleep(poll_interval)\n                        else:\n                            return result  # Return whatever we got\n                    \n                    raise Exception(f\"Query timed out after {max_polls} polls\")\n                \n                def query(self, collection_slug: str, table_name: str, limit: int = 100, **kwargs) -> Dict[str, Any]:\n                    \"\"\"Query with auto-polling and JSON Lines parsing.\"\"\"\n                    return self.query_with_polling(collection_slug, table_name, limit=limit)\n                \n                def count(self, collection_slug: str, table_name: str) -> int:\n                    endpoint = f\"/api/collections/{quote(collection_slug)}/tables/{quote(table_name)}/filter/count\"\n                    response = self._make_request('POST', endpoint, json={\"filters\": {}})\n                    \n                    try:\n                        result = parse_json_lines_response_fallback(response.text)\n                        return result.get('count', 0)\n                    except:\n                        return 0\n            \n            print(\"✅ Using inline client implementation with JSON Lines parsing and debug support!\")\n\n# Import additional libraries for data analysis\nimport pandas as pd\nimport matplotlib.pyplot as plt\nimport seaborn as sns\nfrom datetime import datetime\nimport json\nimport time\n\n# Set up plotting style\nplt.style.use('default')\nsns.set_palette(\"husl\")\n\nprint(\"✅ All imports successful!\")\nprint(f\"📅 Notebook run at: {datetime.now().strftime('%Y-%m-%d %H:%M:%S')}\")"
  },
  {
   "cell_type": "markdown",
   "metadata": {
    "id": "import-and-setup"
   },
   "source": [
    "## 🔧 Import and Setup\n",
    "\n",
    "Now let's import the library and set up our environment:"
   ]
  },
  {
   "cell_type": "code",
   "execution_count": 3,
   "metadata": {
    "id": "imports"
   },
   "outputs": [
    {
     "name": "stdout",
     "output_type": "stream",
     "text": [
      "✅ All imports successful!\n",
      "📅 Notebook run at: 2025-06-10 18:00:03\n"
     ]
    }
   ],
   "source": [
    "# Import the Omics AI Explorer library\n",
    "from omics_ai import OmicsAIClient\n",
    "\n",
    "# Import additional libraries for data analysis\n",
    "import pandas as pd\n",
    "import matplotlib.pyplot as plt\n",
    "import seaborn as sns\n",
    "from datetime import datetime\n",
    "import json\n",
    "\n",
    "# Set up plotting style\n",
    "plt.style.use('default')\n",
    "sns.set_palette(\"husl\")\n",
    "\n",
    "print(\"✅ All imports successful!\")\n",
    "print(f\"📅 Notebook run at: {datetime.now().strftime('%Y-%m-%d %H:%M:%S')}\")"
   ]
  },
  {
   "cell_type": "code",
   "metadata": {
    "id": "network-exploration"
   },
   "source": "# Explore different Omics AI networks\nnetworks = {\n    \"HiFi Solves\": \"hifisolves\",\n    \"Biomedical AI\": \"biomedical\", \n    \"Neuroscience AI\": \"neuroscience\",\n    \"Viral AI\": \"viral\",\n    \"ASAP (Parkinson's)\": \"asap\",\n    \"Target ALS\": \"targetals\"\n}\n\ntotal_collections = 0\nnetwork_results = {}\n\nfor network_name, network_key in networks.items():\n    print(f\"🔗 Connecting to {network_name}...\")\n    try:\n        client = OmicsAIClient(network_key)\n        collections = client.list_collections()\n        collection_count = len(collections)\n        total_collections += collection_count\n        network_results[network_name] = collection_count\n        print(f\"✅ {network_name}: {collection_count} collections\")\n    except Exception as e:\n        print(f\"❌ {network_name}: {e}\")\n        network_results[network_name] = 0\n\nprint(f\"\\n📊 Network Summary:\")\nprint(f\"   Total collections across all networks: {total_collections}\")\nfor network_name, count in network_results.items():\n    if count > 0:\n        print(f\"   {network_name}: {count} collections\")",
   "outputs": []
  },
  {
   "cell_type": "code",
   "metadata": {
    "id": "explore-networks"
   },
   "outputs": [],
   "source": "# Available Explorer networks\nnetworks = {\n    \"HiFi Solves\": \"hifisolves\",\n    \"Biomedical AI\": \"biomedical\", \n    \"Neuroscience AI\": \"neuroscience\",\n    \"Viral AI\": \"viral\",\n    \"ASAP (Parkinson's)\": \"asap\",\n    \"Target ALS\": \"targetals\"\n}\n\nprint(\"🌐 Exploring Omics AI Explorer Networks\")\nprint(\"=\" * 50)\n\nnetwork_stats = {}\n\nfor name, short_name in networks.items():\n    try:\n        print(f\"\\n🔗 Connecting to {name}...\")\n        client = OmicsAIClient(short_name)\n        collections = client.list_collections()\n        \n        network_stats[name] = {\n            'collections': len(collections),\n            'client': client,\n            'sample_collections': collections[:3]  # Store first 3 for display\n        }\n        \n        print(f\"✅ {name}: {len(collections)} collections found\")\n        \n        # Show sample collections\n        for i, collection in enumerate(collections[:3], 1):\n            print(f\"   {i}. {collection['name']} ({collection['slugName']})\")\n        \n        if len(collections) > 3:\n            print(f\"   ... and {len(collections) - 3} more collections\")\n            \n    except Exception as e:\n        print(f\"❌ {name}: {e}\")\n        network_stats[name] = {'collections': 0, 'error': str(e)}\n\n# Summary\nprint(f\"\\n📊 Network Summary:\")\ntotal_collections = sum(stats.get('collections', 0) for stats in network_stats.values())\nprint(f\"   Total collections across all networks: {total_collections}\")\n\nfor name, stats in network_stats.items():\n    if 'error' not in stats:\n        print(f\"   {name}: {stats['collections']} collections\")"
  },
  {
   "cell_type": "markdown",
   "metadata": {
    "id": "visualize-networks"
   },
   "source": [
    "## 📊 Visualize Network Statistics\n",
    "\n",
    "Let's create a visualization of the collections across networks:"
   ]
  },
  {
   "cell_type": "code",
   "source": "# Create a bar plot of collections per network\nnetwork_names = []\ncollection_counts = []\n\nfor name, stats in network_stats.items():\n    if 'error' not in stats:\n        network_names.append(name)\n        collection_counts.append(stats['collections'])\n\nif network_names:  # Only plot if we have data\n    plt.figure(figsize=(10, 6))\n    bars = plt.bar(network_names, collection_counts, \n                   color=['#FF6B6B', '#4ECDC4', '#45B7D1'], alpha=0.8)\n    \n    # Add value labels on bars\n    for bar, count in zip(bars, collection_counts):\n        plt.text(bar.get_x() + bar.get_width()/2, bar.get_height() + 0.5, \n                str(count), ha='center', va='bottom', fontweight='bold')\n    \n    plt.title('🧬 Collections Available Across Omics AI Explorer Networks', \n              fontsize=16, fontweight='bold', pad=20)\n    plt.ylabel('Number of Collections', fontsize=12)\n    plt.xlabel('Explorer Network', fontsize=12)\n    plt.grid(axis='y', alpha=0.3)\n    plt.tight_layout()\n    plt.show()\n    \n    print(f\"📈 Total: {sum(collection_counts)} collections across {len(network_names)} networks\")\nelse:\n    print(\"⚠️ No network data available for visualization\")",
   "metadata": {},
   "outputs": []
  },
  {
   "cell_type": "code",
   "execution_count": 5,
   "metadata": {
    "id": "plot-networks"
   },
   "outputs": [
    {
     "name": "stderr",
     "output_type": "stream",
     "text": [
      "/var/folders/54/75kj0vgs4hs2jh41xh7sbx4m0000gn/T/ipykernel_7026/4021340042.py:25: UserWarning: Glyph 129516 (\\N{DNA DOUBLE HELIX}) missing from font(s) DejaVu Sans.\n",
      "  plt.tight_layout()\n",
      "/Users/mfiume/Library/Python/3.11/lib/python/site-packages/IPython/core/pylabtools.py:170: UserWarning: Glyph 129516 (\\N{DNA DOUBLE HELIX}) missing from font(s) DejaVu Sans.\n",
      "  fig.canvas.print_figure(bytes_io, **kw)\n"
     ]
    },
    {
     "data": {
      "image/png": "[encoded data removed]",
      "text/plain": [
       "<Figure size 1000x600 with 1 Axes>"
      ]
     },
     "metadata": {},
     "output_type": "display_data"
    },
    {
     "name": "stdout",
     "output_type": "stream",
     "text": [
      "📈 Total: 87 collections across 3 networks\n"
     ]
    }
   ],
   "source": [
    "# Create a bar plot of collections per network\n",
    "network_names = []\n",
    "collection_counts = []\n",
    "\n",
    "for name, stats in network_stats.items():\n",
    "    if 'error' not in stats:\n",
    "        network_names.append(name)\n",
    "        collection_counts.append(stats['collections'])\n",
    "\n",
    "if network_names:  # Only plot if we have data\n",
    "    plt.figure(figsize=(10, 6))\n",
    "    bars = plt.bar(network_names, collection_counts, \n",
    "                   color=['#FF6B6B', '#4ECDC4', '#45B7D1'], alpha=0.8)\n",
    "    \n",
    "    # Add value labels on bars\n",
    "    for bar, count in zip(bars, collection_counts):\n",
    "        plt.text(bar.get_x() + bar.get_width()/2, bar.get_height() + 0.5, \n",
    "                str(count), ha='center', va='bottom', fontweight='bold')\n",
    "    \n",
    "    plt.title('🧬 Collections Available Across Omics AI Explorer Networks', \n",
    "              fontsize=16, fontweight='bold', pad=20)\n",
    "    plt.ylabel('Number of Collections', fontsize=12)\n",
    "    plt.xlabel('Explorer Network', fontsize=12)\n",
    "    plt.grid(axis='y', alpha=0.3)\n",
    "    plt.tight_layout()\n",
    "    plt.show()\n",
    "    \n",
    "    print(f\"📈 Total: {sum(collection_counts)} collections across {len(network_names)} networks\")\n",
    "else:\n",
    "    print(\"⚠️ No network data available for visualization\")"
   ]
  },
  {
   "cell_type": "markdown",
   "metadata": {
    "id": "quick-start-demo"
   },
   "source": [
    "## 🚀 Quick Start Demo\n",
    "\n",
    "Now let's replicate the Quick Start example from the README using the most accessible network:"
   ]
  },
  {
   "cell_type": "code",
   "execution_count": 6,
   "metadata": {
    "id": "quick-start"
   },
   "outputs": [
    {
     "name": "stdout",
     "output_type": "stream",
     "text": [
      "🎯 Using Neuroscience AI for Quick Start demo\n",
      "📂 58 collections available\n",
      "\n",
      "📋 First 5 collections:\n",
      "   1. BigBrain dataset (bigbrain)\n",
      "      The BigBrain dataset is a digitized reconstruction of high-resolution histologic...\n",
      "   2. Multi-model functionalization of disease-associated PTEN missense mutations identifies multiple molecular mechanisms underlying protein dysfunction (multi-model-functionalization-disease-pten)\n",
      "      Supporting data for 'Multi-model functionalization of disease-associated PTEN mi...\n",
      "   3. BigBrain dataset - Layer Segmentation (derived dataset) (bigbrain-layer-segementation)\n",
      "      The BigBrain Layer Segmentation dataset contains all layer segmentation files de...\n",
      "   4. Homo sapiens reference genome sequences (homo-sapiens-reference-genomes)\n",
      "      Homo sapiens reference genome sequences and annotation file, as stored in the In...\n",
      "   5. The Effect of Neurorehabilitation on Multiple Sclerosis (neurorehabilitation-multiple-sclerosis)\n",
      "      Multiple sclerosis is a severe neurodegenerative condition that significantly af...\n"
     ]
    }
   ],
   "source": [
    "# Choose the network with the most collections for our demo\n",
    "best_network = max(\n",
    "    [(name, stats) for name, stats in network_stats.items() if 'error' not in stats],\n",
    "    key=lambda x: x[1]['collections'],\n",
    "    default=(None, None)\n",
    ")\n",
    "\n",
    "if best_network[0]:\n",
    "    network_name, network_info = best_network\n",
    "    client = network_info['client']\n",
    "    \n",
    "    print(f\"🎯 Using {network_name} for Quick Start demo\")\n",
    "    print(f\"📂 {network_info['collections']} collections available\")\n",
    "    \n",
    "    # Get all collections\n",
    "    collections = client.list_collections()\n",
    "    \n",
    "    print(f\"\\n📋 First 5 collections:\")\n",
    "    for i, collection in enumerate(collections[:5], 1):\n",
    "        name = collection['name']\n",
    "        slug = collection['slugName']\n",
    "        description = collection.get('description', 'No description')\n",
    "        \n",
    "        # Clean up HTML and truncate description\n",
    "        import re\n",
    "        clean_desc = re.sub('<[^<]+?>', '', description)\n",
    "        clean_desc = clean_desc.replace('&nbsp;', ' ').strip()\n",
    "        if len(clean_desc) > 80:\n",
    "            clean_desc = clean_desc[:80] + \"...\"\n",
    "        \n",
    "        print(f\"   {i}. {name} ({slug})\")\n",
    "        print(f\"      {clean_desc}\")\n",
    "        \n",
    "else:\n",
    "    print(\"❌ No networks available for demo\")"
   ]
  },
  {
   "cell_type": "markdown",
   "metadata": {
    "id": "table-exploration"
   },
   "source": [
    "## 📊 Table Exploration\n",
    "\n",
    "Let's find a collection with accessible tables and explore its structure:"
   ]
  },
  {
   "cell_type": "code",
   "execution_count": 7,
   "metadata": {
    "id": "find-accessible-tables"
   },
   "outputs": [
    {
     "name": "stdout",
     "output_type": "stream",
     "text": [
      "🔍 Searching for accessible collections with tables...\n",
      "   Trying: bigbrain...\n",
      "   ✅ Found 1 tables in 'bigbrain'!\n",
      "\n",
      "🎉 Success! Using collection: bigbrain\n",
      "📊 Found 1 tables:\n",
      "   1. Files\n",
      "      ID: collections.bigbrain._files\n",
      "      Size: 1 rows\n"
     ]
    }
   ],
   "source": [
    "# Try to find collections with accessible tables\n",
    "accessible_collection = None\n",
    "accessible_tables = []\n",
    "\n",
    "if best_network[0]:\n",
    "    print(\"🔍 Searching for accessible collections with tables...\")\n",
    "    \n",
    "    for collection in collections[:10]:  # Try first 10 collections\n",
    "        try:\n",
    "            collection_slug = collection['slugName']\n",
    "            print(f\"   Trying: {collection_slug}...\")\n",
    "            \n",
    "            tables = client.list_tables(collection_slug)\n",
    "            \n",
    "            if tables:  # Found tables!\n",
    "                accessible_collection = collection_slug\n",
    "                accessible_tables = tables\n",
    "                print(f\"   ✅ Found {len(tables)} tables in '{collection_slug}'!\")\n",
    "                break\n",
    "            else:\n",
    "                print(f\"   ⚪ No tables in '{collection_slug}'\")\n",
    "                \n",
    "        except Exception as e:\n",
    "            print(f\"   ❌ {collection_slug}: {str(e)[:50]}...\")\n",
    "            continue\n",
    "    \n",
    "    if accessible_collection:\n",
    "        print(f\"\\n🎉 Success! Using collection: {accessible_collection}\")\n",
    "        print(f\"📊 Found {len(accessible_tables)} tables:\")\n",
    "        \n",
    "        for i, table in enumerate(accessible_tables[:5], 1):\n",
    "            name = table.get('display_name', table.get('name', 'Unnamed'))\n",
    "            size = table.get('size', 'Unknown')\n",
    "            if isinstance(size, int):\n",
    "                size = f\"{size:,}\"\n",
    "            \n",
    "            print(f\"   {i}. {name}\")\n",
    "            print(f\"      ID: {table.get('qualified_table_name', 'N/A')}\")\n",
    "            print(f\"      Size: {size} rows\")\n",
    "            \n",
    "        if len(accessible_tables) > 5:\n",
    "            print(f\"   ... and {len(accessible_tables) - 5} more tables\")\n",
    "    else:\n",
    "        print(\"\\n⚠️ No accessible tables found. This may be due to authentication requirements.\")\n",
    "        print(\"   Many collections require access tokens for full functionality.\")"
   ]
  },
  {
   "cell_type": "markdown",
   "metadata": {
    "id": "schema-inspection"
   },
   "source": [
    "## 🔬 Schema Inspection\n",
    "\n",
    "If we found accessible tables, let's examine their schema:"
   ]
  },
  {
   "cell_type": "code",
   "execution_count": null,
   "metadata": {
    "id": "inspect-schema"
   },
   "outputs": [
    {
     "name": "stdout",
     "output_type": "stream",
     "text": [
      "🔬 Inspecting schema for: Files\n",
      "📋 Table ID: collections.bigbrain._files\n",
      "\n",
      "📊 Found 10 fields:\n",
      "\n",
      "📋 Field Details:\n",
      "    1. id                        | string          | varchar\n",
      "    2. name                      | string          | varchar\n",
      "    3. checksums                 | object          | \n",
      "    4. created_time              | string          | date-time\n",
      "    5. updated_time              | string          | date-time\n",
      "    6. description               | string          | varchar\n",
      "    7. mime_type                 | string          | varchar\n",
      "    8. size                      | int             | bigint\n",
      "    9. version                   | string          | varchar\n",
      "   10. drs_url                   | string          | varchar\n",
      "\n",
      "📈 Field Type Distribution:\n",
      "   string: 8 fields\n",
      "   object: 1 fields\n",
      "   int: 1 fields\n"
     ]
    }
   ],
   "source": [
    "if accessible_collection and accessible_tables:\n",
    "    # Get schema for the first table\n",
    "    table = accessible_tables[0]\n",
    "    table_name = table['qualified_table_name']\n",
    "    \n",
    "    print(f\"🔬 Inspecting schema for: {table.get('display_name', 'Table')}\")\n",
    "    print(f\"📋 Table ID: {table_name}\")\n",
    "    \n",
    "    try:\n",
    "        schema_fields = client.get_schema_fields(accessible_collection, table_name)\n",
    "        \n",
    "        print(f\"\\n📊 Found {len(schema_fields)} fields:\")\n",
    "        \n",
    "        # Create a DataFrame for better display\n",
    "        schema_df = pd.DataFrame(schema_fields)\n",
    "        \n",
    "        # Display first 10 fields\n",
    "        display_fields = schema_df.head(10)\n",
    "        \n",
    "        print(\"\\n📋 Field Details:\")\n",
    "        for i, (_, field) in enumerate(display_fields.iterrows(), 1):\n",
    "            print(f\"   {i:2d}. {field['field']:25} | {field['type']:15} | {field.get('sql_type', 'N/A')}\")\n",
    "        \n",
    "        if len(schema_fields) > 10:\n",
    "            print(f\"   ... and {len(schema_fields) - 10} more fields\")\n",
    "        \n",
    "        # Analyze field types\n",
    "        type_counts = schema_df['type'].value_counts()\n",
    "        print(f\"\\n📈 Field Type Distribution:\")\n",
    "        for field_type, count in type_counts.head().items():\n",
    "            print(f\"   {field_type}: {count} fields\")\n",
    "            \n",
    "    except Exception as e:\n",
    "        print(f\"❌ Error getting schema: {e}\")\n",
    "        schema_fields = []\n",
    "else:\n",
    "    print(\"⚠️ No accessible tables available for schema inspection\")\n",
    "    schema_fields = []"
   ]
  },
  {
   "cell_type": "markdown",
   "metadata": {
    "id": "data-querying"
   },
   "source": [
    "## 🔎 Data Querying\n",
    "\n",
    "Let's try to query some data and count rows:"
   ]
  },
  {
   "cell_type": "markdown",
   "source": "## 🦠 Viral AI Example: VirusSeq Collection\n\nLet's explore the VirusSeq collection on Viral AI, which contains viral genomics data. This demonstrates querying a specific, well-known collection:",
   "metadata": {}
  },
  {
   "cell_type": "code",
   "metadata": {
    "id": "query-data"
   },
   "outputs": [],
   "source": "# VIRAL AI EXAMPLE: Query VirusSeq Variants with Debug Mode\nprint(\"🦠 VIRAL AI EXAMPLE: VirusSeq Collection\")\nprint(\"=\" * 50)\n\n# Hardcoded collection and table names\nCOLLECTION_SLUG = \"virusseq\"\nTABLE_NAME = \"collections.virusseq.variants\"\n\nviral_client = OmicsAIClient(\"viral\")  # Resolves to viral.ai\n\ntry:\n    print(\"🔗 Connecting to Viral AI (viral.ai)...\")\n    print(f\"   Resolved URL: {viral_client.network}\")\n    print(f\"   Target collection: {COLLECTION_SLUG}\")\n    print(f\"   Target table: {TABLE_NAME}\")\n    \n    # Verify the collection exists\n    print(f\"\\n📋 Verifying VirusSeq collection...\")\n    collections = viral_client.list_collections()\n    virusseq_collection = next((c for c in collections if c.get('slugName') == COLLECTION_SLUG), None)\n    \n    if virusseq_collection:\n        print(f\"✅ Found VirusSeq collection: {virusseq_collection['name']}\")\n        print(f\"   Description: {virusseq_collection.get('description', 'No description')[:100]}...\")\n    else:\n        print(f\"⚠️ VirusSeq collection not found, but proceeding with hardcoded names...\")\n    \n    # Get schema for the variants table\n    print(f\"\\n📊 Getting schema for {TABLE_NAME}...\")\n    try:\n        schema_fields = viral_client.get_schema_fields(COLLECTION_SLUG, TABLE_NAME)\n        print(f\"✅ Schema has {len(schema_fields)} fields:\")\n        \n        # Show key genomics fields\n        for field in schema_fields[:10]:\n            print(f\"   {field['field']}: {field['type']}\")\n        if len(schema_fields) > 10:\n            print(f\"   ... and {len(schema_fields) - 10} more fields\")\n            \n    except Exception as schema_error:\n        print(f\"⚠️ Schema error: {schema_error}\")\n        print(\"   Proceeding with query attempt...\")\n    \n    # Query the first 50 rows from collections.virusseq.variants with DEBUG MODE\n    print(f\"\\n🔍 Querying first 50 rows from {TABLE_NAME}...\")\n    print(\"💡 Note: This endpoint is asynchronous and may require polling for results...\")\n    print(\"🔧 DEBUG MODE ENABLED - showing detailed parsing info...\")\n    \n    try:\n        # Use the enhanced query method with polling AND DEBUG MODE\n        results = viral_client.query_with_polling(\n            COLLECTION_SLUG, \n            TABLE_NAME, \n            limit=50,\n            max_polls=12,  # Allow up to 24 seconds (12 polls × 2s)\n            poll_interval=2.0,\n            debug=True  # ENABLE DEBUG MODE\n        )\n        \n        if results.get('data'):\n            sample_data = results['data']\n            print(f\"🎉 Successfully retrieved {len(sample_data)} rows from VirusSeq variants!\")\n            \n            if sample_data:\n                first_row = sample_data[0]\n                print(f\"\\n📊 Sample row structure:\")\n                print(f\"   Total fields: {len(first_row)}\")\n                \n                # Show all field names\n                all_fields = list(first_row.keys())\n                print(f\"   Field names: {all_fields[:12]}{'...' if len(all_fields) > 12 else ''}\")\n                \n                # Show first few rows with sample data\n                print(f\"\\n📝 Sample viral genomics data (first 5 rows):\")\n                for i, row in enumerate(sample_data[:5], 1):\n                    # Show key viral genomics fields if they exist\n                    key_fields = {}\n                    \n                    # Common viral genomics fields to highlight\n                    priority_fields = ['variant_id', 'chrom', 'pos', 'ref', 'alt', 'gene', 'effect', 'strain', 'lineage', 'country', 'date', 'start_position', 'end_position', 'reference_bases', 'alternate_bases', 'sequence_accession']\n                    \n                    for field in priority_fields:\n                        if field in row:\n                            value = row[field]\n                            # Truncate long values\n                            if isinstance(value, str) and len(value) > 30:\n                                value = value[:30] + \"...\"\n                            key_fields[field] = value\n                    \n                    # If no priority fields found, show first 3 fields\n                    if not key_fields:\n                        first_three = dict(list(row.items())[:3])\n                        for k, v in first_three.items():\n                            if isinstance(v, str) and len(str(v)) > 30:\n                                v = str(v)[:30] + \"...\"\n                            key_fields[k] = v\n                    \n                    print(f\"   Row {i}: {key_fields}\")\n                \n                # Show additional info if available\n                if 'next_page_token' in results:\n                    print(f\"\\n📄 Pagination available - next_page_token: {results['next_page_token'][:50]}...\")\n                \n                if 'data_model' in results:\n                    print(f\"\\n📋 Data model included in response\")\n                \n                print(f\"\\n🧬 VirusSeq Variants Sample Analysis:\")\n                print(f\"   • Retrieved: {len(sample_data)} variants\")\n                print(f\"   • Fields per variant: {len(first_row)}\")\n                print(f\"   • Sample shows viral genomics data structure\")\n                print(f\"   • Data source: https://viral.ai/collections/virusseq/\")\n                \n        else:\n            print(\"⚪ Query completed but no data returned\")\n            print(\"   This might indicate an empty table or access restrictions\")\n            \n    except Exception as query_error:\n        print(f\"❌ Query error: {query_error}\")\n        print(\"💡 Possible causes:\")\n        print(\"   • Authentication required for this collection\")\n        print(\"   • Network access restrictions\") \n        print(\"   • Table name or collection slug changed\")\n        print(\"   • Query timeout (async processing took too long)\")\n        print(\"   • JSON Lines parsing issue\")\n        print(\"   • Viral AI endpoint temporarily unavailable\")\n        \nexcept Exception as e:\n    print(f\"❌ Connection error: {e}\")\n    print(\"💡 This might be due to:\")\n    print(\"   • Network connectivity issues\")\n    print(\"   • Viral AI domain resolution problems\") \n    print(\"   • API endpoint changes\")\n\nprint(f\"\\n🎯 Target: Select first 50 rows from {TABLE_NAME}\")\nprint(f\"🌐 Network: viral.ai\")\nprint(f\"⏱️  Async polling: Up to 24 seconds with 2s intervals\")\nprint(f\"🔧 Debug mode: Enabled for detailed response analysis\")"
  },
  {
   "cell_type": "markdown",
   "metadata": {
    "id": "authentication-demo"
   },
   "source": [
    "## 🔐 Authentication Demo\n",
    "\n",
    "Many collections require authentication. Here's how to use access tokens:"
   ]
  },
  {
   "cell_type": "code",
   "execution_count": null,
   "metadata": {
    "id": "auth-demo"
   },
   "outputs": [],
   "source": [
    "print(\"🔐 Authentication Features Demo\")\n",
    "print(\"=\" * 40)\n",
    "\n",
    "# Demo authentication methods (don't use real tokens in notebooks!)\n",
    "if best_network[0]:\n",
    "    client = network_info['client']\n",
    "    \n",
    "    print(\"\\n🔧 Authentication Methods:\")\n",
    "    print(\"\\n1. Setting an access token:\")\n",
    "    print(\"   client.set_access_token('your-token-here')\")\n",
    "    \n",
    "    print(\"\\n2. Creating client with token:\")\n",
    "    print(\"   client = OmicsAIClient('hifisolves', access_token='your-token')\")\n",
    "    \n",
    "    print(\"\\n3. Clearing authentication:\")\n",
    "    print(\"   client.clear_access_token()\")\n",
    "    \n",
    "    # Demonstrate token management (with fake token)\n",
    "    print(\"\\n🧪 Demo with placeholder token:\")\n",
    "    client.set_access_token(\"demo-token-placeholder\")\n",
    "    print(\"   ✅ Token set successfully\")\n",
    "    \n",
    "    client.clear_access_token() \n",
    "    print(\"   ✅ Token cleared successfully\")\n",
    "    \n",
    "    print(\"\\n💡 To get real access tokens:\")\n",
    "    print(\"   • Visit the Explorer network's authentication page\")\n",
    "    print(\"   • Generate an API token or use OAuth flow\")\n",
    "    print(\"   • Keep tokens secure and never commit them to code!\")\n",
    "else:\n",
    "    print(\"⚠️ No network available for authentication demo\")"
   ]
  },
  {
   "cell_type": "markdown",
   "metadata": {
    "id": "advanced-example"
   },
   "source": [
    "## 🚀 Advanced Example: Network Comparison\n",
    "\n",
    "Let's create a comprehensive comparison of the networks we can access:"
   ]
  },
  {
   "cell_type": "code",
   "execution_count": null,
   "metadata": {
    "id": "network-comparison"
   },
   "outputs": [],
   "source": [
    "print(\"📊 Comprehensive Network Analysis\")\n",
    "print(\"=\" * 50)\n",
    "\n",
    "# Collect detailed statistics\n",
    "detailed_stats = []\n",
    "\n",
    "for name, stats in network_stats.items():\n",
    "    if 'error' not in stats:\n",
    "        try:\n",
    "            client = stats['client']\n",
    "            collections = client.list_collections()\n",
    "            \n",
    "            # Try to count accessible tables\n",
    "            accessible_collections = 0\n",
    "            total_tables = 0\n",
    "            \n",
    "            for collection in collections[:5]:  # Sample first 5\n",
    "                try:\n",
    "                    tables = client.list_tables(collection['slugName'])\n",
    "                    if tables:\n",
    "                        accessible_collections += 1\n",
    "                        total_tables += len(tables)\n",
    "                except:\n",
    "                    pass\n",
    "            \n",
    "            detailed_stats.append({\n",
    "                'Network': name,\n",
    "                'Collections': len(collections),\n",
    "                'Accessible Collections (sample)': accessible_collections,\n",
    "                'Total Tables (sample)': total_tables,\n",
    "                'Avg Tables per Collection': round(total_tables / max(accessible_collections, 1), 1)\n",
    "            })\n",
    "            \n",
    "        except Exception as e:\n",
    "            detailed_stats.append({\n",
    "                'Network': name,\n",
    "                'Collections': stats.get('collections', 0),\n",
    "                'Error': str(e)[:30] + \"...\"\n",
    "            })\n",
    "\n",
    "if detailed_stats:\n",
    "    # Create and display comparison table\n",
    "    comparison_df = pd.DataFrame(detailed_stats)\n",
    "    \n",
    "    print(\"\\n📋 Network Comparison Table:\")\n",
    "    print(comparison_df.to_string(index=False))\n",
    "    \n",
    "    # Create visualization if we have numeric data\n",
    "    numeric_df = comparison_df.select_dtypes(include='number')\n",
    "    if not numeric_df.empty and len(numeric_df) > 1:\n",
    "        \n",
    "        plt.figure(figsize=(12, 8))\n",
    "        \n",
    "        # Create subplots for different metrics\n",
    "        fig, axes = plt.subplots(2, 2, figsize=(15, 10))\n",
    "        fig.suptitle('🧬 Omics AI Explorer Networks - Detailed Analysis', fontsize=16, fontweight='bold')\n",
    "        \n",
    "        # Plot 1: Collections per network\n",
    "        if 'Collections' in comparison_df.columns:\n",
    "            axes[0, 0].bar(comparison_df['Network'], comparison_df['Collections'], \n",
    "                          color=['#FF6B6B', '#4ECDC4', '#45B7D1'])\n",
    "            axes[0, 0].set_title('Total Collections')\n",
    "            axes[0, 0].set_ylabel('Count')\n",
    "            \n",
    "        # Plot 2: Accessible collections\n",
    "        if 'Accessible Collections (sample)' in comparison_df.columns:\n",
    "            axes[0, 1].bar(comparison_df['Network'], comparison_df['Accessible Collections (sample)'], \n",
    "                          color=['#96CEB4', '#FFEAA7', '#DDA0DD'])\n",
    "            axes[0, 1].set_title('Accessible Collections (Sample)')\n",
    "            axes[0, 1].set_ylabel('Count')\n",
    "            \n",
    "        # Plot 3: Total tables\n",
    "        if 'Total Tables (sample)' in comparison_df.columns:\n",
    "            axes[1, 0].bar(comparison_df['Network'], comparison_df['Total Tables (sample)'], \n",
    "                          color=['#A8E6CF', '#88D8C0', '#78C7C2'])\n",
    "            axes[1, 0].set_title('Total Tables (Sample)')\n",
    "            axes[1, 0].set_ylabel('Count')\n",
    "            \n",
    "        # Plot 4: Average tables per collection\n",
    "        if 'Avg Tables per Collection' in comparison_df.columns:\n",
    "            axes[1, 1].bar(comparison_df['Network'], comparison_df['Avg Tables per Collection'], \n",
    "                          color=['#FFD93D', '#6BCF7F', '#4D96FF'])\n",
    "            axes[1, 1].set_title('Avg Tables per Collection')\n",
    "            axes[1, 1].set_ylabel('Average')\n",
    "            \n",
    "        plt.tight_layout()\n",
    "        plt.show()\n",
    "        \n",
    "else:\n",
    "    print(\"⚠️ No network data available for detailed analysis\")"
   ]
  },
  {
   "cell_type": "markdown",
   "metadata": {
    "id": "summary-and-next-steps"
   },
   "source": [
    "## 🎉 Summary and Next Steps\n",
    "\n",
    "Congratulations! You've successfully explored the Omics AI Explorer Python library. Here's what you've accomplished:"
   ]
  },
  {
   "cell_type": "code",
   "execution_count": null,
   "metadata": {
    "id": "summary"
   },
   "outputs": [],
   "source": [
    "print(\"🎉 OMICS AI EXPLORER QUICK START SUMMARY\")\n",
    "print(\"=\" * 60)\n",
    "\n",
    "successes = []\n",
    "if network_stats:\n",
    "    total_networks = len([name for name, stats in network_stats.items() if 'error' not in stats])\n",
    "    total_collections = sum(stats.get('collections', 0) for stats in network_stats.values() if 'error' not in stats)\n",
    "    \n",
    "    successes.extend([\n",
    "        f\"✅ Connected to {total_networks} Explorer networks\",\n",
    "        f\"✅ Discovered {total_collections} total collections\",\n",
    "        \"✅ Successfully imported and used the library\"\n",
    "    ])\n",
    "\n",
    "if accessible_collection:\n",
    "    successes.extend([\n",
    "        f\"✅ Found accessible collection: {accessible_collection}\",\n",
    "        f\"✅ Listed {len(accessible_tables)} tables\"\n",
    "    ])\n",
    "\n",
    "if schema_fields:\n",
    "    successes.extend([\n",
    "        f\"✅ Inspected table schema ({len(schema_fields)} fields)\",\n",
    "        \"✅ Analyzed field types and structure\"\n",
    "    ])\n",
    "\n",
    "successes.extend([\n",
    "    \"✅ Demonstrated authentication features\",\n",
    "    \"✅ Created data visualizations\",\n",
    "    \"✅ Performed network comparison analysis\"\n",
    "])\n",
    "\n",
    "for success in successes:\n",
    "    print(success)\n",
    "\n",
    "print(\"\\n🚀 WHAT'S NEXT?\")\n",
    "print(\"-\" * 30)\n",
    "print(\"📚 Learn More:\")\n",
    "print(\"   • Explore the full documentation on GitHub\")\n",
    "print(\"   • Try the advanced examples in the repository\")\n",
    "print(\"   • Check out HiFi Solves specific features\")\n",
    "\n",
    "print(\"\\n🔐 Get Access:\")\n",
    "print(\"   • Request access tokens for protected collections\")\n",
    "print(\"   • Explore authentication workflows\")\n",
    "print(\"   • Join the genomics data community\")\n",
    "\n",
    "print(\"\\n🛠️ Build Something:\")\n",
    "print(\"   • Create your own genomics analysis workflows\")\n",
    "print(\"   • Integrate with other bioinformatics tools\")\n",
    "print(\"   • Contribute to the open source project\")\n",
    "\n",
    "print(\"\\n📞 Get Help:\")\n",
    "print(\"   • GitHub Issues: https://github.com/mfiume/omics-ai-python-library/issues\")\n",
    "print(\"   • Documentation: https://github.com/mfiume/omics-ai-python-library#readme\")\n",
    "print(\"   • Community: Join the discussions on GitHub\")\n",
    "\n",
    "print(f\"\\n🎯 Total Success Rate: {len(successes)}/10 features demonstrated\")\n",
    "print(\"\\n🌟 Happy exploring with Omics AI! 🧬\")"
   ]
  },
  {
   "cell_type": "markdown",
   "metadata": {
    "id": "additional-resources"
   },
   "source": [
    "## 📚 Additional Resources\n",
    "\n",
    "### 🔗 Links\n",
    "- **GitHub Repository**: [mfiume/omics-ai-python-library](https://github.com/mfiume/omics-ai-python-library)\n",
    "- **HiFi Solves**: [hifisolves.org](https://hifisolves.org)\n",
    "- **Neuroscience AI**: [neuroscience.ai](https://neuroscience.ai)\n",
    "- **Biomedical AI**: [biomedical.ai](https://biomedical.ai)\n",
    "\n",
    "### 📖 Documentation Sections\n",
    "- **Basic Usage**: Simple queries and data access\n",
    "- **Advanced Queries**: Complex filtering and pagination\n",
    "- **Authentication**: Working with protected collections\n",
    "- **API Reference**: Complete method documentation\n",
    "\n",
    "### 💡 Tips for Success\n",
    "1. **Start Simple**: Begin with public collections before moving to authenticated ones\n",
    "2. **Explore Schemas**: Always check table schemas before querying\n",
    "3. **Handle Errors**: Many collections require specific permissions\n",
    "4. **Use Pagination**: For large datasets, use limit and offset parameters\n",
    "5. **Stay Updated**: Check the GitHub repository for new features and updates\n",
    "\n",
    "---\n",
    "\n",
    "**Ready to dive deeper into genomics data analysis? Clone the repository and explore more examples!** 🚀"
   ]
  }
 ],
 "metadata": {
  "colab": {
   "provenance": [],
   "toc_visible": true
  },
  "kernelspec": {
   "display_name": "Python 3",
   "language": "python",
   "name": "python3"
  },
  "language_info": {
   "codemirror_mode": {
    "name": "ipython",
    "version": 3
   },
   "file_extension": ".py",
   "mimetype": "text/x-python",
   "name": "python",
   "nbconvert_exporter": "python",
   "pygments_lexer": "ipython3",
   "version": "3.11.11"
  }
 },
 "nbformat": 4,
 "nbformat_minor": 0
}