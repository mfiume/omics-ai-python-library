{
 "cells": [
  {
   "cell_type": "markdown",
   "metadata": {},
   "source": [
    "# 🧬 Omics AI Explorer - Quick Start\n",
    "\n",
    "Simple demo of the Omics AI Explorer Python library for accessing genomics data.\n",
    "\n",
    "[![Open In Colab](https://colab.research.google.com/assets/colab-badge.svg)](https://colab.research.google.com/github/mfiume/omics-ai-python-library/blob/main/Omics_AI_Explorer_Quick_Start_SIMPLE.ipynb)"
   ]
  },
  {
   "cell_type": "markdown",
   "metadata": {},
   "source": "## Connect to HiFi Solves\"",
   "outputs": []
  },
  {
   "cell_type": "code",
   "metadata": {},
   "outputs": [],
   "source": "# Connect to HiFi Solves\nclient = OmicsAIClient(\"hifisolves\")\n\n# List collections to verify connection\ncollections = client.list_collections()\nprint(f\"✅ Connected! Found {len(collections)} collections\")"
  },
  {
   "cell_type": "markdown",
   "metadata": {},
   "source": "## Explore CoLoRS collection",
   "outputs": []
  },
  {
   "cell_type": "code",
   "metadata": {},
   "outputs": [],
   "source": "# Query the CoLoRS small variants table\ntable_name = \"collections.consortium_of_long_read_sequencing_colors.colors_small_variants\"\nprint(f\"🔬 Querying: {table_name}\")\n\n# Get first 10 variants\nresult = client.query(collection_slug, table_name, limit=10)\n\ndata = result.get('data', [])\nprint(f\"✅ Retrieved {len(data)} variant records\")\n\nif data:\n    # Show sample variant\n    variant = data[0]\n    print(f\"\\n📋 Sample variant fields:\")\n    for key, value in list(variant.items())[:8]:  # Show first 8 fields\n        print(f\"  {key}: {value}\")\n    \n    print(f\"\\n📊 Total fields per variant: {len(variant)}\")\n    \n    # Show pagination info if available\n    if 'pagination' in result:\n        total = result['pagination'].get('total', 'Unknown')\n        print(f\"📈 Total variants in table: {total:,}\" if isinstance(total, int) else f\"📈 Total variants: {total}\")\nelse:\n    print(\"❌ No data returned\")"
  },
  {
   "cell_type": "markdown",
   "metadata": {},
   "source": "## Query genomics data",
   "outputs": []
  },
  {
   "cell_type": "code",
   "metadata": {},
   "outputs": [],
   "source": "# Try other networks\nnetworks = {\n    \"Neuroscience AI\": \"neuroscience\",\n    \"Viral AI\": \"viral\", \n    \"Biomedical AI\": \"biomedical\",\n    \"ASAP (Parkinson's)\": \"asap\"\n}\n\nprint(\"🌐 Other Omics AI Explorer networks:\")\nfor name, network in networks.items():\n    try:\n        client = OmicsAIClient(network)\n        collections = client.list_collections()\n        print(f\"  ✅ {name}: {len(collections)} collections\")\n    except Exception as e:\n        print(f\"  ❌ {name}: {str(e)[:50]}...\")"
  },
  {
   "cell_type": "markdown",
   "metadata": {},
   "source": "## Inspect schema",
   "outputs": []
  },
  {
   "cell_type": "code",
   "execution_count": null,
   "metadata": {},
   "outputs": [],
   "source": [
    "# Try to query first table\n",
    "if 'tables' in locals() and tables:\n",
    "    table_name = tables[0]['qualified_table_name']\n",
    "    print(f\"Querying: {table_name}\")\n",
    "    \n",
    "    try:\n",
    "        # Query first 5 rows\n",
    "        result = client.query(collection_slug, table_name, limit=5)\n",
    "        \n",
    "        data = result.get('data', [])\n",
    "        print(f\"Got {len(data)} rows\")\n",
    "        \n",
    "        if data:\n",
    "            print(f\"Sample row: {list(data[0].keys())[:5]}...\")\n",
    "            \n",
    "    except Exception as e:\n",
    "        print(f\"Query error: {e}\")\n",
    "        print(\"This table may require authentication\")\n",
    "else:\n",
    "    print(\"No tables available to query\")"
   ]
  },
  {
   "cell_type": "markdown",
   "metadata": {},
   "source": "## Other networks",
   "outputs": []
  },
  {
   "cell_type": "code",
   "execution_count": null,
   "metadata": {},
   "outputs": [],
   "source": [
    "# Try other networks\n",
    "networks = [\"neuroscience\", \"viral\", \"biomedical\"]\n",
    "\n",
    "for network in networks:\n",
    "    try:\n",
    "        client = OmicsAIClient(network)\n",
    "        collections = client.list_collections()\n",
    "        print(f\"{network}: {len(collections)} collections\")\n",
    "    except Exception as e:\n",
    "        print(f\"{network}: Error - {e}\")"
   ]
  },
  {
   "cell_type": "markdown",
   "metadata": {},
   "source": "## Authentication (optional)",
   "outputs": []
  },
  {
   "cell_type": "code",
   "execution_count": null,
   "metadata": {},
   "outputs": [],
   "source": [
    "# If you have an access token:\n",
    "# client = OmicsAIClient(\"hifisolves\", access_token=\"your-token\")\n",
    "# \n",
    "# Or set it later:\n",
    "# client.set_access_token(\"your-token\")\n",
    "\n",
    "print(\"See README for authentication details\")"
   ]
  },
  {
   "cell_type": "markdown",
   "metadata": {},
   "source": "---\\n\\n**That's it!** 🎉\\n\\n- **Collection**: [CoLoRS (Consortium of Long Read Sequencing)](https://hifisolves.org/collections/consortium-of-long-read-sequencing-colors)\\n- **Data**: Small variants from long-read sequencing studies\\n- **GitHub**: [mfiume/omics-ai-python-library](https://github.com/mfiume/omics-ai-python-library)\\n- **Networks**: hifisolves.org, neuroscience.ai, viral.ai, biomedical.ai\"",
   "outputs": []
  }
 ],
 "metadata": {
  "colab": {
   "provenance": []
  },
  "kernelspec": {
   "display_name": "Python 3",
   "language": "python",
   "name": "python3"
  },
  "language_info": {
   "codemirror_mode": {
    "name": "ipython",
    "version": 3
   },
   "file_extension": ".py",
   "name": "python",
   "nbconvert_exporter": "python",
   "pygments_lexer": "ipython3",
   "version": "3.8.5"
  }
 },
 "nbformat": 4,
 "nbformat_minor": 4
}