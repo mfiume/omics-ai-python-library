{
 "cells": [
  {
   "cell_type": "markdown",
   "metadata": {},
   "source": [
    "# 🧬 Omics AI Explorer - Quick Start\n",
    "\n",
    "Simple demo using the CoLoRS collection on HiFi Solves.\n",
    "\n",
    "[![Open In Colab](https://colab.research.google.com/assets/colab-badge.svg)](https://colab.research.google.com/github/mfiume/omics-ai-python-library/blob/main/Omics_AI_Explorer_Quick_Start.ipynb)"
   ]
  },
  {
   "cell_type": "code",
   "execution_count": null,
   "metadata": {},
   "outputs": [],
   "source": [
    "# Install and import\n",
    "!pip install git+https://github.com/mfiume/omics-ai-python-library.git --quiet\n",
    "from omics_ai import list_collections, list_tables, get_schema_fields, query\n",
    "print(\"Ready!\")"
   ]
  },
  {
   "cell_type": "code",
   "execution_count": null,
   "metadata": {},
   "outputs": [],
   "source": [
    "# List collections on HiFi Solves\n",
    "collections = list_collections(\"hifisolves\")\n",
    "print(f\"Found {len(collections)} collections\")\n",
    "print(f\"First: {collections[0]['name']}\")"
   ]
  },
  {
   "cell_type": "code",
   "execution_count": null,
   "metadata": {},
   "outputs": [],
   "source": [
    "# Explore CoLoRS collection\n",
    "collection = \"consortium-of-long-read-sequencing-colors\"\n",
    "tables = list_tables(\"hifisolves\", collection)\n",
    "print(f\"Tables in CoLoRS: {len(tables)}\")\n",
    "for table in tables:\n",
    "    print(f\"- {table['display_name']}\")"
   ]
  },
  {
   "cell_type": "code",
   "execution_count": null,
   "metadata": {},
   "outputs": [],
   "source": [
    "# Query variants data\n",
    "table = \"collections.consortium_of_long_read_sequencing_colors.colors_small_variants\"\n",
    "result = query(\"hifisolves\", collection, table, limit=5)\n",
    "\n",
    "data = result['data']\n",
    "print(f\"Retrieved {len(data)} variants\")\n",
    "print(f\"Fields: {list(data[0].keys())[:5]}...\")\n",
    "print(f\"Sample: {data[0]}\")"
   ]
  },
  {
   "cell_type": "code",
   "execution_count": null,
   "metadata": {},
   "outputs": [],
   "source": [
    "# Check other networks\n",
    "for network in [\"viral\", \"neuroscience\", \"biomedical\"]:\n",
    "    try:\n",
    "        collections = list_collections(network)\n",
    "        print(f\"{network}: {len(collections)} collections\")\n",
    "    except Exception as e:\n",
    "        print(f\"{network}: error\")"
   ]
  },
  {
   "cell_type": "markdown",
   "metadata": {},
   "source": [
    "## Done!\n",
    "\n",
    "**With access token:**\n",
    "```python\n",
    "result = query(\"hifisolves\", collection, table, access_token=\"your-token\")\n",
    "```\n",
    "\n",
    "**Links:**\n",
    "- [GitHub](https://github.com/mfiume/omics-ai-python-library)\n",
    "- [CoLoRS Collection](https://hifisolves.org/collections/consortium-of-long-read-sequencing-colors)"
   ]
  }
 ],
 "metadata": {
  "kernelspec": {
   "display_name": "Python 3",
   "language": "python",
   "name": "python3"
  },
  "language_info": {
   "codemirror_mode": {
    "name": "ipython",
    "version": 3
   },
   "file_extension": ".py",
   "name": "python",
   "nbconvert_exporter": "python",
   "pygments_lexer": "ipython3",
   "version": "3.8.5"
  }
 },
 "nbformat": 4,
 "nbformat_minor": 4
}